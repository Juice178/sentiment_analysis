{
 "cells": [
  {
   "cell_type": "code",
   "execution_count": 1,
   "metadata": {},
   "outputs": [],
   "source": [
    "import pandas as pd\n",
    "import numpy as np\n",
    "import matplotlib.pyplot as plt\n",
    "%matplotlib inline\n",
    "import seaborn as sns; sns.set();"
   ]
  },
  {
   "cell_type": "code",
   "execution_count": 2,
   "metadata": {},
   "outputs": [],
   "source": [
    "data = '../../datasets/amazon_review/Reviews.csv'\n",
    "data = pd.read_csv(data)"
   ]
  },
  {
   "cell_type": "code",
   "execution_count": 3,
   "metadata": {},
   "outputs": [
    {
     "name": "stdout",
     "output_type": "stream",
     "text": [
      "(568454, 10)\n"
     ]
    }
   ],
   "source": [
    "print(data.shape)"
   ]
  },
  {
   "cell_type": "code",
   "execution_count": 4,
   "metadata": {},
   "outputs": [
    {
     "name": "stdout",
     "output_type": "stream",
     "text": [
      "(56845, 10)\n"
     ]
    },
    {
     "data": {
      "text/html": [
       "<div>\n",
       "<style>\n",
       "    .dataframe thead tr:only-child th {\n",
       "        text-align: right;\n",
       "    }\n",
       "\n",
       "    .dataframe thead th {\n",
       "        text-align: left;\n",
       "    }\n",
       "\n",
       "    .dataframe tbody tr th {\n",
       "        vertical-align: top;\n",
       "    }\n",
       "</style>\n",
       "<table border=\"1\" class=\"dataframe\">\n",
       "  <thead>\n",
       "    <tr style=\"text-align: right;\">\n",
       "      <th></th>\n",
       "      <th>Id</th>\n",
       "      <th>ProductId</th>\n",
       "      <th>UserId</th>\n",
       "      <th>ProfileName</th>\n",
       "      <th>HelpfulnessNumerator</th>\n",
       "      <th>HelpfulnessDenominator</th>\n",
       "      <th>Score</th>\n",
       "      <th>Time</th>\n",
       "      <th>Summary</th>\n",
       "      <th>Text</th>\n",
       "    </tr>\n",
       "  </thead>\n",
       "  <tbody>\n",
       "    <tr>\n",
       "      <th>246454</th>\n",
       "      <td>246455</td>\n",
       "      <td>B002D4DY8G</td>\n",
       "      <td>A11EXFO14WEJM1</td>\n",
       "      <td>Sudarshan Karkada</td>\n",
       "      <td>0</td>\n",
       "      <td>0</td>\n",
       "      <td>4</td>\n",
       "      <td>1259539200</td>\n",
       "      <td>Good coffee - if you are into flavored coffee</td>\n",
       "      <td>We always brew Starbucks coffee at home and we...</td>\n",
       "    </tr>\n",
       "    <tr>\n",
       "      <th>115917</th>\n",
       "      <td>115918</td>\n",
       "      <td>B00348F9I8</td>\n",
       "      <td>A2ITC756URQ2PA</td>\n",
       "      <td>Curley</td>\n",
       "      <td>0</td>\n",
       "      <td>0</td>\n",
       "      <td>5</td>\n",
       "      <td>1327968000</td>\n",
       "      <td>Best there is</td>\n",
       "      <td>Tasty and fresh - Just like Grandma used to ma...</td>\n",
       "    </tr>\n",
       "    <tr>\n",
       "      <th>57802</th>\n",
       "      <td>57803</td>\n",
       "      <td>B000EVOSE4</td>\n",
       "      <td>A2B14PJBB4I1MF</td>\n",
       "      <td>Chris</td>\n",
       "      <td>4</td>\n",
       "      <td>7</td>\n",
       "      <td>1</td>\n",
       "      <td>1299628800</td>\n",
       "      <td>So hard! Not edible!</td>\n",
       "      <td>&lt;a href=\"http://www.amazon.com/gp/product/B000...</td>\n",
       "    </tr>\n",
       "    <tr>\n",
       "      <th>517602</th>\n",
       "      <td>517603</td>\n",
       "      <td>B00954NY46</td>\n",
       "      <td>AAYPNKBSZVUBZ</td>\n",
       "      <td>R.C.</td>\n",
       "      <td>2</td>\n",
       "      <td>2</td>\n",
       "      <td>5</td>\n",
       "      <td>1299974400</td>\n",
       "      <td>Nice strong BOLD coffee</td>\n",
       "      <td>Nice strong coffee - smooth but does have a bi...</td>\n",
       "    </tr>\n",
       "    <tr>\n",
       "      <th>35949</th>\n",
       "      <td>35950</td>\n",
       "      <td>B0085G4A7U</td>\n",
       "      <td>A2CT0K7QK1O1OI</td>\n",
       "      <td>Ressa</td>\n",
       "      <td>0</td>\n",
       "      <td>0</td>\n",
       "      <td>5</td>\n",
       "      <td>1331942400</td>\n",
       "      <td>My favorite of the Vita Coco beverages is this...</td>\n",
       "      <td>The Vita Coco Acai &amp; Pomegranate is the best t...</td>\n",
       "    </tr>\n",
       "  </tbody>\n",
       "</table>\n",
       "</div>"
      ],
      "text/plain": [
       "            Id   ProductId          UserId        ProfileName  \\\n",
       "246454  246455  B002D4DY8G  A11EXFO14WEJM1  Sudarshan Karkada   \n",
       "115917  115918  B00348F9I8  A2ITC756URQ2PA             Curley   \n",
       "57802    57803  B000EVOSE4  A2B14PJBB4I1MF              Chris   \n",
       "517602  517603  B00954NY46   AAYPNKBSZVUBZ               R.C.   \n",
       "35949    35950  B0085G4A7U  A2CT0K7QK1O1OI              Ressa   \n",
       "\n",
       "        HelpfulnessNumerator  HelpfulnessDenominator  Score        Time  \\\n",
       "246454                     0                       0      4  1259539200   \n",
       "115917                     0                       0      5  1327968000   \n",
       "57802                      4                       7      1  1299628800   \n",
       "517602                     2                       2      5  1299974400   \n",
       "35949                      0                       0      5  1331942400   \n",
       "\n",
       "                                                  Summary  \\\n",
       "246454      Good coffee - if you are into flavored coffee   \n",
       "115917                                      Best there is   \n",
       "57802                                So hard! Not edible!   \n",
       "517602                            Nice strong BOLD coffee   \n",
       "35949   My favorite of the Vita Coco beverages is this...   \n",
       "\n",
       "                                                     Text  \n",
       "246454  We always brew Starbucks coffee at home and we...  \n",
       "115917  Tasty and fresh - Just like Grandma used to ma...  \n",
       "57802   <a href=\"http://www.amazon.com/gp/product/B000...  \n",
       "517602  Nice strong coffee - smooth but does have a bi...  \n",
       "35949   The Vita Coco Acai & Pomegranate is the best t...  "
      ]
     },
     "execution_count": 4,
     "metadata": {},
     "output_type": "execute_result"
    }
   ],
   "source": [
    "# We shuffle the rows and extract 10% of the rows\n",
    "df_reduced = data.sample(frac=0.1, random_state=7)\n",
    "print(df_reduced.shape)\n",
    "df_reduced.head()"
   ]
  },
  {
   "cell_type": "code",
   "execution_count": 5,
   "metadata": {},
   "outputs": [],
   "source": [
    "texts = [] # this list holds the text for each sample(row)\n",
    "labels = [] # this list holds the value 0,1. 0 is nagative, 1 is positive"
   ]
  },
  {
   "cell_type": "code",
   "execution_count": 6,
   "metadata": {},
   "outputs": [
    {
     "name": "stdout",
     "output_type": "stream",
     "text": [
      "The number of labels:  56845\n",
      "The number of texts:  56845\n"
     ]
    }
   ],
   "source": [
    "labels  = np.array([df_reduced['Score'] >= 4])[0][:].astype(int)\n",
    "texts = df_reduced['Text'].values\n",
    "print(\"The number of labels: \", len(labels))\n",
    "print(\"The number of texts: \", len(texts))"
   ]
  },
  {
   "cell_type": "code",
   "execution_count": 7,
   "metadata": {},
   "outputs": [
    {
     "name": "stdout",
     "output_type": "stream",
     "text": [
      "1\n",
      "We always brew Starbucks coffee at home and we rarely consume flavored coffee. We tried this coffee and liked it.<br /><br />If you enjoy flavored coffee, then you are likely to enjoy this coffee.<br /><br />I wish it brewed a little stronger (bold) coffee.\n"
     ]
    }
   ],
   "source": [
    "print(labels[0])\n",
    "print(texts[0])"
   ]
  },
  {
   "cell_type": "code",
   "execution_count": 8,
   "metadata": {},
   "outputs": [
    {
     "name": "stdout",
     "output_type": "stream",
     "text": [
      "[0 1]\n",
      "[12435 44410]\n",
      "[ 0.21875275  0.78124725]\n"
     ]
    }
   ],
   "source": [
    "print(np.unique(labels))\n",
    "print(np.bincount(labels))\n",
    "\n",
    "sentiment_pct = np.bincount(labels) / df_reduced.shape[0] # percentage value of each sentiment \n",
    "print(sentiment_pct)"
   ]
  },
  {
   "cell_type": "code",
   "execution_count": 9,
   "metadata": {},
   "outputs": [
    {
     "name": "stdout",
     "output_type": "stream",
     "text": [
      "Reduced Size is:  (22738,)\n",
      "[ 0.22174334  0.77825666]\n"
     ]
    }
   ],
   "source": [
    "data_size = df_reduced.shape[0]\n",
    "\n",
    "np.random.seed(7)\n",
    "# shuffle data\n",
    "indices = np.arange(data_size)\n",
    "np.random.shuffle(indices)\n",
    "texts = texts[indices]\n",
    "labels = labels[indices]\n",
    "\n",
    "reduced_data_size = int(data_size * 0.4)\n",
    "reduced_texts = texts[:reduced_data_size]\n",
    "reduced_labels = labels[:reduced_data_size]\n",
    "\n",
    "print(\"Reduced Size is: \", reduced_texts.shape)\n",
    "\n",
    "\n",
    "reduced_sentiment_pct = np.bincount(reduced_labels) / reduced_data_size # percentage value of each sentiment \n",
    "print(reduced_sentiment_pct)"
   ]
  },
  {
   "cell_type": "code",
   "execution_count": 10,
   "metadata": {},
   "outputs": [
    {
     "data": {
      "text/html": [
       "<div>\n",
       "<style>\n",
       "    .dataframe thead tr:only-child th {\n",
       "        text-align: right;\n",
       "    }\n",
       "\n",
       "    .dataframe thead th {\n",
       "        text-align: left;\n",
       "    }\n",
       "\n",
       "    .dataframe tbody tr th {\n",
       "        vertical-align: top;\n",
       "    }\n",
       "</style>\n",
       "<table border=\"1\" class=\"dataframe\">\n",
       "  <thead>\n",
       "    <tr style=\"text-align: right;\">\n",
       "      <th>sentiment</th>\n",
       "      <th>negative</th>\n",
       "      <th>positive</th>\n",
       "    </tr>\n",
       "  </thead>\n",
       "  <tbody>\n",
       "    <tr>\n",
       "      <th>count</th>\n",
       "      <td>0.221743</td>\n",
       "      <td>0.778257</td>\n",
       "    </tr>\n",
       "  </tbody>\n",
       "</table>\n",
       "</div>"
      ],
      "text/plain": [
       "sentiment  negative  positive\n",
       "count      0.221743  0.778257"
      ]
     },
     "execution_count": 10,
     "metadata": {},
     "output_type": "execute_result"
    }
   ],
   "source": [
    "\n",
    "sentiment = pd.DataFrame(np.random.rand(1, 2), \n",
    "                      index=['count'],\n",
    "                      columns=pd.Index([\"negative\", \"positive\"], name='sentiment'))\n",
    "sentiment.iloc[0] = reduced_sentiment_pct\n",
    "sentiment"
   ]
  },
  {
   "cell_type": "code",
   "execution_count": 11,
   "metadata": {},
   "outputs": [
    {
     "data": {
      "text/plain": [
       "<matplotlib.axes._subplots.AxesSubplot at 0x1a133633c8>"
      ]
     },
     "execution_count": 11,
     "metadata": {},
     "output_type": "execute_result"
    },
    {
     "data": {
      "image/png": "[encoded data removed]",
      "text/plain": [
       "<matplotlib.figure.Figure at 0x1a13363748>"
      ]
     },
     "metadata": {},
     "output_type": "display_data"
    }
   ],
   "source": [
    "sentiment.plot.bar(title=\"Ratio of each sentiment\")"
   ]
  },
  {
   "cell_type": "markdown",
   "metadata": {},
   "source": [
    "<h2>Imbalanced Dataset</h2>\n",
    "\n",
    "<h3>Thing to be noticed !! If we just classify each sample (or every samples) as \"positive\",\n",
    "we will get about 78% classification accuracy. 78% accuracy is our baseline.</h3><br>"
   ]
  },
  {
   "cell_type": "markdown",
   "metadata": {},
   "source": [
    "<h3>Shuffle and split the data into train/validation/test set</h3>"
   ]
  },
  {
   "cell_type": "code",
   "execution_count": 12,
   "metadata": {},
   "outputs": [
    {
     "name": "stdout",
     "output_type": "stream",
     "text": [
      "True\n",
      "The number of training set is:  18190\n",
      "The number of test set is:  4548\n"
     ]
    }
   ],
   "source": [
    "# we will use 80% of data as training set, 20% as test set\n",
    "train_size = int(reduced_data_size * .8)\n",
    "text_train = reduced_texts[:train_size]\n",
    "y_train = reduced_labels[:train_size]\n",
    "text_test = reduced_texts[train_size:]\n",
    "y_test = reduced_labels[train_size:]\n",
    "\n",
    "# Sanity check\n",
    "print(reduced_data_size == (len(text_train) + len(text_test)))\n",
    "print(\"The number of training set is: \", len(text_train))\n",
    "print(\"The number of test set is: \", len(text_test))"
   ]
  },
  {
   "cell_type": "markdown",
   "metadata": {},
   "source": [
    "<h2>Bag of Words</h2>"
   ]
  },
  {
   "cell_type": "code",
   "execution_count": 13,
   "metadata": {},
   "outputs": [
    {
     "name": "stdout",
     "output_type": "stream",
     "text": [
      "<18190x26817 sparse matrix of type '<class 'numpy.int64'>'\n",
      "\twith 981815 stored elements in Compressed Sparse Row format>\n"
     ]
    }
   ],
   "source": [
    "from sklearn.feature_extraction.text import CountVectorizer\n",
    "vect = CountVectorizer().fit(text_train)\n",
    "X_train = vect.transform(text_train)\n",
    "print(repr(X_train))"
   ]
  },
  {
   "cell_type": "code",
   "execution_count": 14,
   "metadata": {},
   "outputs": [
    {
     "name": "stdout",
     "output_type": "stream",
     "text": [
      "<4548x26817 sparse matrix of type '<class 'numpy.int64'>'\n",
      "\twith 246466 stored elements in Compressed Sparse Row format>\n"
     ]
    }
   ],
   "source": [
    "X_test = vect.transform(text_test)\n",
    "print(repr(X_test))"
   ]
  },
  {
   "cell_type": "code",
   "execution_count": 15,
   "metadata": {},
   "outputs": [],
   "source": [
    "from sklearn.pipeline import make_pipeline\n",
    "from sklearn.model_selection import GridSearchCV\n",
    "from sklearn.metrics import confusion_matrix\n",
    "from sklearn.linear_model import LogisticRegression\n",
    "\n",
    "logreg = LogisticRegression(class_weight=\"balanced\")\n",
    "param_grid = {'C': [0.01, 0.1, 1, 10, 100]}\n",
    "\n",
    "grid = GridSearchCV(logreg, param_grid, cv=5)\n",
    "logreg_train = grid.fit(X_train, y_train)"
   ]
  },
  {
   "cell_type": "code",
   "execution_count": 16,
   "metadata": {},
   "outputs": [
    {
     "name": "stdout",
     "output_type": "stream",
     "text": [
      "LogisticRegression(C=1, class_weight='balanced', dual=False,\n",
      "          fit_intercept=True, intercept_scaling=1, max_iter=100,\n",
      "          multi_class='ovr', n_jobs=1, penalty='l2', random_state=None,\n",
      "          solver='liblinear', tol=0.0001, verbose=0, warm_start=False)\n"
     ]
    }
   ],
   "source": [
    "print(grid.best_estimator_)"
   ]
  },
  {
   "cell_type": "markdown",
   "metadata": {},
   "source": [
    "<h3>Overfitting</h3>"
   ]
  },
  {
   "cell_type": "code",
   "execution_count": 17,
   "metadata": {},
   "outputs": [
    {
     "name": "stdout",
     "output_type": "stream",
     "text": [
      "Train accuracy is:  0.972072567345\n",
      "Test accuracy is:  0.861037818821\n"
     ]
    }
   ],
   "source": [
    "# Below is same as : pred_logreg = LogisticRegression(C=1).fit(X_train, y_train)\n",
    "# pred_logreg_train = logreg_train.predict(X_train)\n",
    "pred_logreg = logreg_train.predict(X_test)\n",
    "print(\"Train accuracy is: \", grid.score(X_train, y_train))\n",
    "print(\"Test accuracy is: \", grid.score(X_test, y_test))"
   ]
  },
  {
   "cell_type": "code",
   "execution_count": 18,
   "metadata": {},
   "outputs": [
    {
     "name": "stdout",
     "output_type": "stream",
     "text": [
      "[[ 788  244]\n",
      " [ 388 3128]]\n"
     ]
    }
   ],
   "source": [
    "confusion = confusion_matrix(y_test, pred_logreg)\n",
    "print(confusion)"
   ]
  },
  {
   "cell_type": "code",
   "execution_count": 19,
   "metadata": {},
   "outputs": [
    {
     "data": {
      "image/png": "[encoded data removed]",
      "text/plain": [
       "<matplotlib.figure.Figure at 0x1a1455af60>"
      ]
     },
     "metadata": {},
     "output_type": "display_data"
    }
   ],
   "source": [
    "from sklearn.metrics import roc_curve\n",
    "\n",
    "fpr, tpr, thresholds = roc_curve(y_test, grid.decision_function(X_test))\n",
    "# find threshold closest to zero:\n",
    "close_zero = np.argmin(np.abs(thresholds))\n",
    "plt.plot(fpr[close_zero], tpr[close_zero], 'o', markersize=10, \n",
    "         label=\"threshold zero(default)\", fillstyle=\"none\", c='k', mew=2)\n",
    "plt.legend(loc=4)\n",
    "plt.plot(fpr, tpr, label=\"ROC Curve\")\n",
    "plt.xlabel(\"False Positive Rate\")\n",
    "plt.ylabel(\"True Positive Rate (recall)\")\n",
    "plt.title(\"roc_curve\");"
   ]
  },
  {
   "cell_type": "code",
   "execution_count": 20,
   "metadata": {},
   "outputs": [
    {
     "name": "stdout",
     "output_type": "stream",
     "text": [
      "925\n"
     ]
    }
   ],
   "source": [
    "print(len(thresholds))"
   ]
  },
  {
   "cell_type": "code",
   "execution_count": 21,
   "metadata": {},
   "outputs": [
    {
     "name": "stdout",
     "output_type": "stream",
     "text": [
      "26817\n",
      "\n",
      "\n",
      "['00', '000', '00001', '0003', '000kwh', '000s', '001', '0060721855', '00pm', '01', '0174', '02', '020', '03', '030', '030712', '0312362919', '03755', '0393066304', '04']\n",
      "\n",
      "\n",
      "['zits', 'ziwi', 'ziwipeak', 'zn', 'zoe', 'zofchak', 'zojirushi', 'zombie', 'zombies', 'zone', 'zoo', 'zooming', 'zucchini', 'zuke', 'zukes', 'zumba', 'zupreem', 'zylotol', 'zymox', 'zzzz']\n",
      "\n",
      "\n",
      "['00', '2lbs', '96', 'afertaste', 'ample', 'asada', 'b000lkwxa4', 'baguette', 'benner', 'bolder', 'brunelle', 'cancelled', 'certainly', 'chop', 'collapse', 'consistancy', 'cramming', 'dalmation', 'density', 'disagree', 'doses', 'edged', 'epic', 'exported', 'fighting', 'foodshouldtastegood', 'furthermore', 'glycerine', 'growths', 'headaches', 'hops', 'impractical', 'integrated', 'jobs', 'kool', 'letdown', 'loved', 'marianne', 'metalic', 'monitoring', 'nauseated', 'nuked', 'orac', 'pamala', 'perches', 'plane', 'pps', 'protease', 'radioactive', 'reesesticks', 'reservoir', 'roller', 'saucepan', 'senses', 'sierra', 'snackmaster', 'spelled', 'steinway', 'suey', 'tactics', 'thailand', 'toothpaste', 'tunisia', 'unplugging', 'verses', 'waxie', 'wolfgang', 'zn']\n"
     ]
    }
   ],
   "source": [
    "features_names = vect.get_feature_names()\n",
    "print(len(features_names))\n",
    "print(\"\\n\")\n",
    "# print first 20 features\n",
    "print(features_names[:20])\n",
    "print(\"\\n\")\n",
    "# print last 20 features\n",
    "print(features_names[-20:])\n",
    "print(\"\\n\")\n",
    "# print every 400th word\n",
    "print(features_names[::400])"
   ]
  },
  {
   "cell_type": "code",
   "execution_count": 22,
   "metadata": {},
   "outputs": [
    {
     "name": "stdout",
     "output_type": "stream",
     "text": [
      "<18190x11339 sparse matrix of type '<class 'numpy.int64'>'\n",
      "\twith 962857 stored elements in Compressed Sparse Row format>\n"
     ]
    }
   ],
   "source": [
    "# min_df controls this condition(min_df=3 means pick up words which appear\n",
    "# at least 3 documents)\n",
    "vect = CountVectorizer(min_df=3).fit(text_train)\n",
    "X_train = vect.transform(text_train)\n",
    "X_test = vect.transform(text_test)\n",
    "print(repr(X_train))"
   ]
  },
  {
   "cell_type": "code",
   "execution_count": 23,
   "metadata": {},
   "outputs": [
    {
     "name": "stdout",
     "output_type": "stream",
     "text": [
      "11339\n",
      "\n",
      "\n",
      "['00', '000', '000kwh', '01', '02', '03', '04', '05', '06', '07', '08', '09', '0g', '0mg', '10', '100', '1000', '100g', '105', '10g']\n",
      "\n",
      "\n",
      "['zero', 'zest', 'zesty', 'zevia', 'zhena', 'zico', 'zinc', 'zing', 'zinger', 'zip', 'ziploc', 'ziplock', 'zipper', 'ziwipeak', 'zoe', 'zojirushi', 'zombie', 'zone', 'zuke', 'zukes']\n",
      "\n",
      "\n",
      "['00', 'aerogrow', 'astronaut', 'blessing', 'cameron', 'cited', 'coolest', 'definitely', 'dot', 'evaluate', 'flattening', 'glorified', 'heathy', 'inflammatory', 'kosher', 'ma', 'miss', 'nutmeg', 'passages', 'posted', 'raging', 'retire', 'searched', 'smallest', 'steamed', 'tamales', 'towel', 'vegans', 'workplace']\n"
     ]
    }
   ],
   "source": [
    "features_names = vect.get_feature_names()\n",
    "print(len(features_names))\n",
    "print(\"\\n\")\n",
    "# print first 20 features\n",
    "print(features_names[:20])\n",
    "print(\"\\n\")\n",
    "# print last 20 features\n",
    "print(features_names[-20:])\n",
    "print(\"\\n\")\n",
    "# print every 50th word\n",
    "print(features_names[::400])"
   ]
  },
  {
   "cell_type": "code",
   "execution_count": 24,
   "metadata": {},
   "outputs": [
    {
     "name": "stdout",
     "output_type": "stream",
     "text": [
      "LogisticRegression(C=1, class_weight='balanced', dual=False,\n",
      "          fit_intercept=True, intercept_scaling=1, max_iter=100,\n",
      "          multi_class='ovr', n_jobs=1, penalty='l2', random_state=None,\n",
      "          solver='liblinear', tol=0.0001, verbose=0, warm_start=False)\n"
     ]
    }
   ],
   "source": [
    "logreg = LogisticRegression(class_weight=\"balanced\")\n",
    "param_grid = {'C': [0.01, 0.1, 1, 10, 100]}\n",
    "\n",
    "grid = GridSearchCV(logreg, param_grid, cv=5)\n",
    "logreg_train = grid.fit(X_train, y_train)\n",
    "\n",
    "print(grid.best_estimator_)"
   ]
  },
  {
   "cell_type": "code",
   "execution_count": 25,
   "metadata": {},
   "outputs": [
    {
     "name": "stdout",
     "output_type": "stream",
     "text": [
      "accuracy is:  0.855980650836\n"
     ]
    }
   ],
   "source": [
    "# Below is same as : pred_logreg = LogisticRegression(C=1).fit(X_train, y_train)\n",
    "pred_logreg = logreg_train.predict(X_test)\n",
    "print(\"accuracy is: \", grid.score(X_test, y_test))"
   ]
  },
  {
   "cell_type": "code",
   "execution_count": 26,
   "metadata": {},
   "outputs": [
    {
     "name": "stdout",
     "output_type": "stream",
     "text": [
      "Number of stop words is : 318 \n",
      "\n",
      "Examples:  ['she', 'last', 'serious', 'what', 'two', 'itself', 'wherever', 'almost', 'due', 'de', 'to', 'seeming', 'amoungst', 'themselves', 'five', 'ltd', 'elsewhere', 'either', 'against', 'together', 'name', 'you', 'hundred', 'ten', 'meanwhile', 'nine', 'under', 'my', 'mostly', 'along', 'herein', 'until']\n"
     ]
    }
   ],
   "source": [
    "from sklearn.feature_extraction.text import ENGLISH_STOP_WORDS\n",
    "print(\"Number of stop words is :\", len(ENGLISH_STOP_WORDS), \"\\n\")\n",
    "print(\"Examples: \", list(ENGLISH_STOP_WORDS)[::10])"
   ]
  },
  {
   "cell_type": "code",
   "execution_count": 27,
   "metadata": {},
   "outputs": [
    {
     "name": "stdout",
     "output_type": "stream",
     "text": [
      "<18190x11046 sparse matrix of type '<class 'numpy.int64'>'\n",
      "\twith 539369 stored elements in Compressed Sparse Row format>\n"
     ]
    }
   ],
   "source": [
    "vect = CountVectorizer(min_df=3, stop_words='english').fit(text_train)\n",
    "X_train = vect.transform(text_train)\n",
    "X_test = vect.transform(text_test)\n",
    "print(repr(X_train))"
   ]
  },
  {
   "cell_type": "code",
   "execution_count": 28,
   "metadata": {},
   "outputs": [
    {
     "name": "stdout",
     "output_type": "stream",
     "text": [
      "LogisticRegression(C=1, class_weight='balanced', dual=False,\n",
      "          fit_intercept=True, intercept_scaling=1, max_iter=100,\n",
      "          multi_class='ovr', n_jobs=1, penalty='l2', random_state=None,\n",
      "          solver='liblinear', tol=0.0001, verbose=0, warm_start=False)\n"
     ]
    }
   ],
   "source": [
    "logreg = LogisticRegression(class_weight=\"balanced\")\n",
    "param_grid = {'C': [0.01, 0.1, 1, 10, 100]}\n",
    "\n",
    "grid = GridSearchCV(logreg, param_grid, cv=5)\n",
    "logreg_train = grid.fit(X_train, y_train)\n",
    "\n",
    "print(grid.best_estimator_)"
   ]
  },
  {
   "cell_type": "code",
   "execution_count": 29,
   "metadata": {},
   "outputs": [
    {
     "name": "stdout",
     "output_type": "stream",
     "text": [
      "accuracy is:  0.845206684257\n",
      "[[ 765  267]\n",
      " [ 437 3079]]\n"
     ]
    }
   ],
   "source": [
    "# Below is same as : pred_logreg = LogisticRegression(C=1).fit(X_train, y_train)\n",
    "pred_logreg = logreg_train.predict(X_test)\n",
    "print(\"accuracy is: \", grid.score(X_test, y_test))\n",
    "\n",
    "confusion = confusion_matrix(y_test, pred_logreg)\n",
    "print(confusion)"
   ]
  },
  {
   "cell_type": "markdown",
   "metadata": {},
   "source": [
    "# TFIDF"
   ]
  },
  {
   "cell_type": "code",
   "execution_count": 30,
   "metadata": {},
   "outputs": [],
   "source": [
    "from sklearn.feature_extraction.text import TfidfVectorizer\n",
    "from sklearn.pipeline import make_pipeline"
   ]
  },
  {
   "cell_type": "code",
   "execution_count": 31,
   "metadata": {},
   "outputs": [],
   "source": [
    "logreg = LogisticRegression(class_weight=\"balanced\")\n",
    "pipe = make_pipeline(TfidfVectorizer(norm=None, stop_words='english'), logreg)\n",
    "param_grid = {'logisticregression__C': [0.001, 0.01, 0.1, 1, 10]}\n",
    "\n",
    "grid = GridSearchCV(pipe, param_grid, cv=5)\n",
    "logreg_train = grid.fit(text_train, y_train)"
   ]
  },
  {
   "cell_type": "code",
   "execution_count": 32,
   "metadata": {},
   "outputs": [
    {
     "name": "stdout",
     "output_type": "stream",
     "text": [
      "Pipeline(memory=None,\n",
      "     steps=[('tfidfvectorizer', TfidfVectorizer(analyzer='word', binary=False, decode_error='strict',\n",
      "        dtype=<class 'numpy.int64'>, encoding='utf-8', input='content',\n",
      "        lowercase=True, max_df=1.0, max_features=None, min_df=1,\n",
      "        ngram_range=(1, 1), norm=None, preprocessor=None, smooth_i...ty='l2', random_state=None,\n",
      "          solver='liblinear', tol=0.0001, verbose=0, warm_start=False))])\n"
     ]
    }
   ],
   "source": [
    "print(grid.best_estimator_)"
   ]
  },
  {
   "cell_type": "code",
   "execution_count": 33,
   "metadata": {},
   "outputs": [
    {
     "name": "stdout",
     "output_type": "stream",
     "text": [
      "accuracy is:  0.855760773967\n",
      "confusion matrix \n",
      " [[ 773  259]\n",
      " [ 397 3119]]\n"
     ]
    }
   ],
   "source": [
    "# logreg = LogisticRegression(C=0.1).fit(X_train, y_train)\n",
    "pred_logreg = logreg_train.predict(text_test)\n",
    "print(\"accuracy is: \", grid.score(text_test, y_test))\n",
    "confusion = confusion_matrix(y_test, pred_logreg)\n",
    "print(\"confusion matrix \\n\", confusion)"
   ]
  },
  {
   "cell_type": "code",
   "execution_count": 34,
   "metadata": {},
   "outputs": [
    {
     "name": "stdout",
     "output_type": "stream",
     "text": [
      "features with lowest tfidf\n",
      "['pricey' 'agree' 'sitting' 'overpowering' 'saying' 'sorry' 'share'\n",
      " 'appreciate' 'fell' 'according' 'disappointing' 'staple' 'terrific'\n",
      " 'enjoyable' 'bonus' 'searching' 'regularly' 'incredibly' 'delightful'\n",
      " 'typically'] \n",
      "\n",
      "featues with hightest tfidf\n",
      "['dioxide' 'echinacea' 'scalp' 'scotch' 'sriracha' 'nirvana' 'scoville'\n",
      " 'trap' 'rooibos' 'titanium' 'blade' 'pizza' 'oils' 'br' 'olive' '12'\n",
      " 'bisquick' 'carmel' 'bbd' 'wut']\n"
     ]
    }
   ],
   "source": [
    "vectorizer = grid.best_estimator_.named_steps[\"tfidfvectorizer\"]\n",
    "X_train = vectorizer.transform(text_train)\n",
    "max_value = X_train.max(axis=0).toarray().ravel()\n",
    "sorted_by_tfidf = max_value.argsort()\n",
    "\n",
    "feature_names = np.array(vectorizer.get_feature_names())\n",
    "\n",
    "print(\"features with lowest tfidf\")\n",
    "print(feature_names[sorted_by_tfidf[:20]], '\\n')\n",
    "\n",
    "print(\"featues with hightest tfidf\")\n",
    "print(feature_names[sorted_by_tfidf[-20:]])"
   ]
  },
  {
   "cell_type": "code",
   "execution_count": 35,
   "metadata": {},
   "outputs": [
    {
     "name": "stdout",
     "output_type": "stream",
     "text": [
      "features with lowest idf\n",
      "['like' 'good' 'br' 'great' 'just' 'taste' 'product' 'love' 'flavor'\n",
      " 'really' 'amazon' 'don' 'coffee' 'time' 'little' 'buy' 've' 'use' 'best'\n",
      " 'tried' 'price' 'food' 'try' 'better' 'make' 'eat' 'tea' 'bought' 'used'\n",
      " 'way' 'bag' 'think' 'recommend' 'cup' 'tastes' 'sweet' 'day' 'store' 'did'\n",
      " 'delicious' 'know' 'sugar' 'free' 'favorite' 'bit' 'order' 'box' 'nice'\n",
      " 'got' 'does' 'drink' 'dog' 'water' 'want' 'makes' 'loves' 'flavors' 'say'\n",
      " 'right' 'chocolate' 'years' 'lot' 'small' 'different' 'll' 'perfect'\n",
      " 'healthy' 'ordered' 'quality' 'doesn' 'stuff' 'didn' 'brand' 'sure' 'add'\n",
      " 'buying' 'old' 'bad' 'need' 'using' 'enjoy' 'mix' 'pack' 'long' 'snack'\n",
      " 'hard' 'hot' 'easy' 'products' 'high' 'definitely' 'strong' 'ingredients'\n",
      " 'thing' 'thought' 'far' 'fresh' 'pretty' 'eating' 'actually']\n"
     ]
    }
   ],
   "source": [
    "sorted_by_idf = np.argsort(vectorizer.idf_)\n",
    "print(\"features with lowest idf\")\n",
    "print(feature_names[sorted_by_idf[:100]])"
   ]
  },
  {
   "cell_type": "code",
   "execution_count": 36,
   "metadata": {},
   "outputs": [],
   "source": [
    "import mglearn"
   ]
  },
  {
   "cell_type": "code",
   "execution_count": 117,
   "metadata": {},
   "outputs": [],
   "source": [
    "mglearn.tools.visualize_coefficients??"
   ]
  },
  {
   "cell_type": "code",
   "execution_count": 141,
   "metadata": {},
   "outputs": [],
   "source": [
    "def visualize_coefficients(coefficients, feature_names, n_top_features=25):\n",
    "    \"\"\"Visualize coefficients of a linear model.\n",
    "\n",
    "    Parameters\n",
    "    ----------\n",
    "    coefficients : nd-array, shape (n_features,)\n",
    "        Model coefficients.\n",
    "\n",
    "    feature_names : list or nd-array of strings, shape (n_features,)\n",
    "        Feature names for labeling the coefficients.\n",
    "\n",
    "    n_top_features : int, default=25\n",
    "        How many features to show. The function will show the largest (most\n",
    "        positive) and smallest (most negative)  n_top_features coefficients,\n",
    "        for a total of 2 * n_top_features coefficients.\n",
    "    \"\"\"\n",
    "    coefficients = coefficients.squeeze()\n",
    "    if coefficients.ndim > 1:\n",
    "        # this is not a row or column vector\n",
    "        raise ValueError(\"coeffients must be 1d array or column vector, got\"\n",
    "                         \" shape {}\".format(coefficients.shape))\n",
    "    coefficients = coefficients.ravel()\n",
    "\n",
    "    if len(coefficients) != len(feature_names):\n",
    "        raise ValueError(\"Number of coefficients {} doesn't match number of\"\n",
    "                         \"feature names {}.\".format(len(coefficients),\n",
    "                                                    len(feature_names)))\n",
    "    # get coefficients with large absolute values\n",
    "    coef = coefficients.ravel()\n",
    "    positive_coefficients = np.argsort(coef)[-n_top_features:]\n",
    "    negative_coefficients = np.argsort(coef)[:n_top_features]\n",
    "    interesting_coefficients = np.hstack([negative_coefficients,\n",
    "                                          positive_coefficients])\n",
    "    # plot them\n",
    "    plt.figure(figsize=(20, 20))\n",
    "    colors = [cm(1) if c < 0 else cm(0)\n",
    "              for c in coef[interesting_coefficients]]\n",
    "    plt.bar(np.arange(2 * n_top_features), coef[interesting_coefficients],\n",
    "            color=colors)\n",
    "    feature_names = np.array(feature_names)\n",
    "    plt.subplots_adjust(bottom=0.3)\n",
    "    plt.xticks(np.arange(1, 1 + 2 * n_top_features),\n",
    "               feature_names[interesting_coefficients], rotation=60,\n",
    "               ha=\"right\")\n",
    "    plt.ylabel(\"Coefficient magnitude\")\n",
    "    plt.xlabel(\"Feature\")"
   ]
  },
  {
   "cell_type": "code",
   "execution_count": 122,
   "metadata": {},
   "outputs": [
    {
     "data": {
      "text/plain": [
       "Text(0.5,1,'tfidf-cofficient')"
      ]
     },
     "execution_count": 122,
     "metadata": {},
     "output_type": "execute_result"
    },
    {
     "data": {
      "text/plain": [
       "<matplotlib.figure.Figure at 0x1a1e2e5a20>"
      ]
     },
     "metadata": {},
     "output_type": "display_data"
    },
    {
     "data": {
      "image/png": "[encoded data removed]",
      "text/plain": [
       "<matplotlib.figure.Figure at 0x1a1e4f7400>"
      ]
     },
     "metadata": {},
     "output_type": "display_data"
    }
   ],
   "source": [
    "plt.figure(figsize=(20,20))\n",
    "\n",
    "mglearn.tools.visualize_coefficients(grid.best_estimator_.named_steps['logisticregression'].coef_, \n",
    "                                   feature_names, n_top_features=25)\n",
    "plt.title(\"tfidf-cofficient\")"
   ]
  },
  {
   "cell_type": "code",
   "execution_count": 145,
   "metadata": {},
   "outputs": [
    {
     "name": "stdout",
     "output_type": "stream",
     "text": [
      "Best cross-validation score:  0.889664650907\n",
      "Bes parameter is:  {'tfidfvectorizer__ngram_range': (1, 3), 'logisticregression__C': 100}\n"
     ]
    }
   ],
   "source": [
    "pipe = make_pipeline(TfidfVectorizer(min_df=5), LogisticRegression())\n",
    "param_grid = {'logisticregression__C': [0.001, 0.01, 0.1, 10, 100, 1000], \n",
    "              'tfidfvectorizer__ngram_range': [(1,1), (1,2), (1,3)]}\n",
    "\n",
    "grid = GridSearchCV(pipe, param_grid, cv=5)\n",
    "logreg_train = grid.fit(text_train, y_train)\n",
    "print(\"Best cross-validation score: \", grid.best_score_)\n",
    "print(\"Bes parameter is: \", grid.best_params_)"
   ]
  },
  {
   "cell_type": "code",
   "execution_count": 147,
   "metadata": {},
   "outputs": [
    {
     "name": "stdout",
     "output_type": "stream",
     "text": [
      "Train accuracy is:  1.0\n",
      "Test accuracy is:  0.895118733509\n",
      "confusion matrix \n",
      " [[ 704  328]\n",
      " [ 149 3367]]\n"
     ]
    }
   ],
   "source": [
    "# logreg = LogisticRegression(C=0.1).fit(X_train, y_train)\n",
    "pred_logreg = logreg_train.predict(text_test)\n",
    "print(\"Train accuracy is: \", grid.score(text_train, y_train))\n",
    "print(\"Test accuracy is: \", grid.score(text_test, y_test))\n",
    "confusion = confusion_matrix(y_test, pred_logreg)\n",
    "print(\"confusion matrix \\n\", confusion)"
   ]
  },
  {
   "cell_type": "code",
   "execution_count": 150,
   "metadata": {},
   "outputs": [
    {
     "data": {
      "image/png": "[encoded data removed]",
      "text/plain": [
       "<matplotlib.figure.Figure at 0x1c39fa9e10>"
      ]
     },
     "metadata": {},
     "output_type": "display_data"
    }
   ],
   "source": [
    "fpr, tpr, thresholds = roc_curve(y_test, grid.decision_function(text_test))\n",
    "# find threshold closest to zero:\n",
    "close_zero = np.argmin(np.abs(thresholds))\n",
    "plt.plot(fpr[close_zero], tpr[close_zero], 'o', markersize=10, \n",
    "         label=\"threshold zero(default)\", fillstyle=\"none\", c='k', mew=2)\n",
    "plt.legend(loc=4)\n",
    "plt.plot(fpr, tpr, label=\"ROC Curve\")\n",
    "plt.xlabel(\"False Positive Rate\")\n",
    "plt.ylabel(\"True Positive Rate (recall)\")\n",
    "plt.title(\"roc_curve\");"
   ]
  },
  {
   "cell_type": "code",
   "execution_count": 148,
   "metadata": {},
   "outputs": [
    {
     "data": {
      "text/plain": [
       "<matplotlib.colorbar.Colorbar at 0x1a21ba5278>"
      ]
     },
     "execution_count": 148,
     "metadata": {},
     "output_type": "execute_result"
    },
    {
     "data": {
      "image/png": "[encoded data removed]",
      "text/plain": [
       "<matplotlib.figure.Figure at 0x1c31cf3470>"
      ]
     },
     "metadata": {},
     "output_type": "display_data"
    }
   ],
   "source": [
    "scores = [s for s in grid.cv_results_['mean_test_score']]\n",
    "scores = np.array(scores).reshape(-1, 3).T\n",
    "heatmap = mglearn.tools.heatmap(scores, xlabel=\"C\", ylabel=\"ngram_range\", \n",
    "                               xticklabels=param_grid[\"logisticregression__C\"], \n",
    "                               yticklabels=param_grid[\"tfidfvectorizer__ngram_range\"], \n",
    "                               cmap=\"viridis\", fmt=\"%.3f\")\n",
    "plt.colorbar(heatmap)"
   ]
  },
  {
   "cell_type": "code",
   "execution_count": 149,
   "metadata": {},
   "outputs": [
    {
     "data": {
      "image/png": "[encoded data removed]",
      "text/plain": [
       "<matplotlib.figure.Figure at 0x1a21b97438>"
      ]
     },
     "metadata": {},
     "output_type": "display_data"
    }
   ],
   "source": [
    "feature_names = np.array(grid.best_estimator_.named_steps[\"tfidfvectorizer\"].get_feature_names())\n",
    "coef = grid.best_estimator_.named_steps[\"logisticregression\"].coef_\n",
    "mask = np.array([len(feature.split(\" \")) for feature in feature_names]) == 3\n",
    "mglearn.tools.visualize_coefficients(coef.ravel()[mask], \n",
    "                                   feature_names[mask], n_top_features=40)"
   ]
  },
  {
   "cell_type": "markdown",
   "metadata": {},
   "source": [
    "<h2>Inspect words for each positive/negative reviews</h2>"
   ]
  },
  {
   "cell_type": "code",
   "execution_count": 103,
   "metadata": {},
   "outputs": [],
   "source": [
    "from collections import Counter\n",
    "\n",
    "# Create three Counter objects to store positive, negative and total counts\n",
    "positive_counts = Counter()\n",
    "negative_counts = Counter()\n",
    "total_counts = Counter()\n",
    "\n",
    "\n",
    "# TODO: Loop over all the words in all the reviews and increment the counts in the appropriate counter objects\n",
    "for i, text in enumerate(reduced_texts):\n",
    "    if reduced_labels[i] == 1:\n",
    "        for word in text.split(' '):\n",
    "            positive_counts[word] +=1\n",
    "            total_counts[word] +=1\n",
    "    else:\n",
    "        for word in text.split(' '):\n",
    "            negative_counts[word] += 1\n",
    "            total_counts[word] += 1"
   ]
  },
  {
   "cell_type": "code",
   "execution_count": 104,
   "metadata": {},
   "outputs": [
    {
     "name": "stdout",
     "output_type": "stream",
     "text": [
      "(22738,)\n"
     ]
    }
   ],
   "source": [
    "print(reduced_texts.shape)"
   ]
  },
  {
   "cell_type": "code",
   "execution_count": 105,
   "metadata": {},
   "outputs": [
    {
     "data": {
      "text/plain": [
       "array([ 0.22174334,  0.77825666])"
      ]
     },
     "execution_count": 105,
     "metadata": {},
     "output_type": "execute_result"
    }
   ],
   "source": [
    "reduced_sentiment_pct"
   ]
  },
  {
   "cell_type": "code",
   "execution_count": 106,
   "metadata": {},
   "outputs": [],
   "source": [
    "# Create Counter object to store positive/negative ratios\n",
    "pos_neg_ratios = Counter()\n",
    "\n",
    "# TODO: Calculate the ratios of positive and negative uses of the most common words\n",
    "#       Consider words to be \"common\" if they've been used at least 100 times\n",
    "\n",
    "for word in positive_counts:\n",
    "    if positive_counts[word] >= 100 and negative_counts[word] >= 100:\n",
    "        pos_neg_ratios[word] = positive_counts[word] / negative_counts[word]\n",
    "\n",
    "for word, ratio in pos_neg_ratios.most_common():\n",
    "    if(ratio > 1):\n",
    "        pos_neg_ratios[word] = np.log(ratio)\n",
    "    else:\n",
    "        pos_neg_ratios[word] = -np.log((1 / (ratio + 0.01)))"
   ]
  },
  {
   "cell_type": "code",
   "execution_count": 107,
   "metadata": {},
   "outputs": [
    {
     "name": "stdout",
     "output_type": "stream",
     "text": [
      "Pos-to-neg ratio for 'the' = 0.9659791633936624\n",
      "Pos-to-neg ratio for 'good' = 1.3656194673889341\n",
      "Pos-to-neg ratio for 'bad' = 0.28007747306656167\n"
     ]
    }
   ],
   "source": [
    "print(\"Pos-to-neg ratio for 'the' = {}\".format(pos_neg_ratios[\"the\"]))\n",
    "print(\"Pos-to-neg ratio for 'good' = {}\".format(pos_neg_ratios[\"good\"]))\n",
    "print(\"Pos-to-neg ratio for 'bad' = {}\".format(pos_neg_ratios[\"bad\"]))"
   ]
  },
  {
   "cell_type": "code",
   "execution_count": 108,
   "metadata": {},
   "outputs": [
    {
     "data": {
      "text/plain": [
       "[('loves', 2.3643542963828121),\n",
       " ('best', 2.2720257904189176),\n",
       " ('great', 2.2582335927764534),\n",
       " ('favorite', 2.0803809499217718),\n",
       " ('happy', 1.9659241593253818),\n",
       " ('love', 1.9211982659812199),\n",
       " ('healthy', 1.8902784530691645),\n",
       " ('snack', 1.8624124365517525),\n",
       " ('every', 1.8092818199202574),\n",
       " ('nice', 1.8054771054568544)]"
      ]
     },
     "execution_count": 108,
     "metadata": {},
     "output_type": "execute_result"
    }
   ],
   "source": [
    "pos_neg_ratios.most_common()[:10]"
   ]
  },
  {
   "cell_type": "code",
   "execution_count": 109,
   "metadata": {},
   "outputs": [
    {
     "data": {
      "text/plain": [
       "[('disappointed', -0.89159811928378352),\n",
       " ('away.', 0.0093023926623134103),\n",
       " ('NOT', 0.009950330853168092),\n",
       " ('cans', 0.044672440051592599),\n",
       " ('money', 0.051031480012445826),\n",
       " ('excited', 0.076961041136128394),\n",
       " ('opened', 0.084706697472162751),\n",
       " ('thought', 0.17999481484347843),\n",
       " (\"wasn't\", 0.24419696051204215),\n",
       " ('received', 0.25521168742099676)]"
      ]
     },
     "execution_count": 109,
     "metadata": {},
     "output_type": "execute_result"
    }
   ],
   "source": [
    "# words most frequently seen in a review with a \"NEGATIVE\" label\n",
    "list(reversed(pos_neg_ratios.most_common()))[:10]"
   ]
  },
  {
   "cell_type": "code",
   "execution_count": 110,
   "metadata": {},
   "outputs": [
    {
     "data": {
      "text/html": [
       "\n",
       "    <div class=\"bk-root\">\n",
       "        <a href=\"https://bokeh.pydata.org\" target=\"_blank\" class=\"bk-logo bk-logo-small bk-logo-notebook\"></a>\n",
       "        <span id=\"68d6b01d-caf9-4a46-80a6-59b96b030ee1\">Loading BokehJS ...</span>\n",
       "    </div>"
      ]
     },
     "metadata": {},
     "output_type": "display_data"
    },
    {
     "data": {
      "application/javascript": [
       "\n",
       "(function(root) {\n",
       "  function now() {\n",
       "    return new Date();\n",
       "  }\n",
       "\n",
       "  var force = true;\n",
       "\n",
       "  if (typeof (root._bokeh_onload_callbacks) === \"undefined\" || force === true) {\n",
       "    root._bokeh_onload_callbacks = [];\n",
       "    root._bokeh_is_loading = undefined;\n",
       "  }\n",
       "\n",
       "  var JS_MIME_TYPE = 'application/javascript';\n",
       "  var HTML_MIME_TYPE = 'text/html';\n",
       "  var EXEC_MIME_TYPE = 'application/vnd.bokehjs_exec.v0+json';\n",
       "  var CLASS_NAME = 'output_bokeh rendered_html';\n",
       "\n",
       "  /**\n",
       "   * Render data to the DOM node\n",
       "   */\n",
       "  function render(props, node) {\n",
       "    var script = document.createElement(\"script\");\n",
       "    node.appendChild(script);\n",
       "  }\n",
       "\n",
       "  /**\n",
       "   * Handle when an output is cleared or removed\n",
       "   */\n",
       "  function handleClearOutput(event, handle) {\n",
       "    var cell = handle.cell;\n",
       "\n",
       "    var id = cell.output_area._bokeh_element_id;\n",
       "    var server_id = cell.output_area._bokeh_server_id;\n",
       "    // Clean up Bokeh references\n",
       "    if (id !== undefined) {\n",
       "      Bokeh.index[id].model.document.clear();\n",
       "      delete Bokeh.index[id];\n",
       "    }\n",
       "\n",
       "    if (server_id !== undefined) {\n",
       "      // Clean up Bokeh references\n",
       "      var cmd = \"from bokeh.io import _state; print(_state.uuid_to_server['\" + server_id + \"'].get_sessions()[0].document.roots[0]._id)\";\n",
       "      cell.notebook.kernel.execute(cmd, {\n",
       "        iopub: {\n",
       "          output: function(msg) {\n",
       "            var element_id = msg.content.text.trim();\n",
       "            Bokeh.index[element_id].model.document.clear();\n",
       "            delete Bokeh.index[element_id];\n",
       "          }\n",
       "        }\n",
       "      });\n",
       "      // Destroy server and session\n",
       "      var cmd = \"from bokeh import io; io._destroy_server('\" + server_id + \"')\";\n",
       "      cell.notebook.kernel.execute(cmd);\n",
       "    }\n",
       "  }\n",
       "\n",
       "  /**\n",
       "   * Handle when a new output is added\n",
       "   */\n",
       "  function handleAddOutput(event, handle) {\n",
       "    var output_area = handle.output_area;\n",
       "    var output = handle.output;\n",
       "\n",
       "    // limit handleAddOutput to display_data with EXEC_MIME_TYPE content only\n",
       "    if ((output.output_type != \"display_data\") || (!output.data.hasOwnProperty(EXEC_MIME_TYPE))) {\n",
       "      return\n",
       "    }\n",
       "\n",
       "    var toinsert = output_area.element.find(`.${CLASS_NAME.split(' ')[0]}`);\n",
       "\n",
       "    if (output.metadata[EXEC_MIME_TYPE][\"id\"] !== undefined) {\n",
       "      toinsert[0].firstChild.textContent = output.data[JS_MIME_TYPE];\n",
       "      // store reference to embed id on output_area\n",
       "      output_area._bokeh_element_id = output.metadata[EXEC_MIME_TYPE][\"id\"];\n",
       "    }\n",
       "    if (output.metadata[EXEC_MIME_TYPE][\"server_id\"] !== undefined) {\n",
       "      var bk_div = document.createElement(\"div\");\n",
       "      bk_div.innerHTML = output.data[HTML_MIME_TYPE];\n",
       "      var script_attrs = bk_div.children[0].attributes;\n",
       "      for (var i = 0; i < script_attrs.length; i++) {\n",
       "        toinsert[0].firstChild.setAttribute(script_attrs[i].name, script_attrs[i].value);\n",
       "      }\n",
       "      // store reference to server id on output_area\n",
       "      output_area._bokeh_server_id = output.metadata[EXEC_MIME_TYPE][\"server_id\"];\n",
       "    }\n",
       "  }\n",
       "\n",
       "  function register_renderer(events, OutputArea) {\n",
       "\n",
       "    function append_mime(data, metadata, element) {\n",
       "      // create a DOM node to render to\n",
       "      var toinsert = this.create_output_subarea(\n",
       "        metadata,\n",
       "        CLASS_NAME,\n",
       "        EXEC_MIME_TYPE\n",
       "      );\n",
       "      this.keyboard_manager.register_events(toinsert);\n",
       "      // Render to node\n",
       "      var props = {data: data, metadata: metadata[EXEC_MIME_TYPE]};\n",
       "      render(props, toinsert[0]);\n",
       "      element.append(toinsert);\n",
       "      return toinsert\n",
       "    }\n",
       "\n",
       "    /* Handle when an output is cleared or removed */\n",
       "    events.on('clear_output.CodeCell', handleClearOutput);\n",
       "    events.on('delete.Cell', handleClearOutput);\n",
       "\n",
       "    /* Handle when a new output is added */\n",
       "    events.on('output_added.OutputArea', handleAddOutput);\n",
       "\n",
       "    /**\n",
       "     * Register the mime type and append_mime function with output_area\n",
       "     */\n",
       "    OutputArea.prototype.register_mime_type(EXEC_MIME_TYPE, append_mime, {\n",
       "      /* Is output safe? */\n",
       "      safe: true,\n",
       "      /* Index of renderer in `output_area.display_order` */\n",
       "      index: 0\n",
       "    });\n",
       "  }\n",
       "\n",
       "  // register the mime type if in Jupyter Notebook environment and previously unregistered\n",
       "  if (root.Jupyter !== undefined) {\n",
       "    var events = require('base/js/events');\n",
       "    var OutputArea = require('notebook/js/outputarea').OutputArea;\n",
       "\n",
       "    if (OutputArea.prototype.mime_types().indexOf(EXEC_MIME_TYPE) == -1) {\n",
       "      register_renderer(events, OutputArea);\n",
       "    }\n",
       "  }\n",
       "\n",
       "  \n",
       "  if (typeof (root._bokeh_timeout) === \"undefined\" || force === true) {\n",
       "    root._bokeh_timeout = Date.now() + 5000;\n",
       "    root._bokeh_failed_load = false;\n",
       "  }\n",
       "\n",
       "  var NB_LOAD_WARNING = {'data': {'text/html':\n",
       "     \"<div style='background-color: #fdd'>\\n\"+\n",
       "     \"<p>\\n\"+\n",
       "     \"BokehJS does not appear to have successfully loaded. If loading BokehJS from CDN, this \\n\"+\n",
       "     \"may be due to a slow or bad network connection. Possible fixes:\\n\"+\n",
       "     \"</p>\\n\"+\n",
       "     \"<ul>\\n\"+\n",
       "     \"<li>re-rerun `output_notebook()` to attempt to load from CDN again, or</li>\\n\"+\n",
       "     \"<li>use INLINE resources instead, as so:</li>\\n\"+\n",
       "     \"</ul>\\n\"+\n",
       "     \"<code>\\n\"+\n",
       "     \"from bokeh.resources import INLINE\\n\"+\n",
       "     \"output_notebook(resources=INLINE)\\n\"+\n",
       "     \"</code>\\n\"+\n",
       "     \"</div>\"}};\n",
       "\n",
       "  function display_loaded() {\n",
       "    var el = document.getElementById(\"68d6b01d-caf9-4a46-80a6-59b96b030ee1\");\n",
       "    if (el != null) {\n",
       "      el.textContent = \"BokehJS is loading...\";\n",
       "    }\n",
       "    if (root.Bokeh !== undefined) {\n",
       "      if (el != null) {\n",
       "        el.textContent = \"BokehJS \" + root.Bokeh.version + \" successfully loaded.\";\n",
       "      }\n",
       "    } else if (Date.now() < root._bokeh_timeout) {\n",
       "      setTimeout(display_loaded, 100)\n",
       "    }\n",
       "  }\n",
       "\n",
       "\n",
       "  function run_callbacks() {\n",
       "    try {\n",
       "      root._bokeh_onload_callbacks.forEach(function(callback) { callback() });\n",
       "    }\n",
       "    finally {\n",
       "      delete root._bokeh_onload_callbacks\n",
       "    }\n",
       "    console.info(\"Bokeh: all callbacks have finished\");\n",
       "  }\n",
       "\n",
       "  function load_libs(js_urls, callback) {\n",
       "    root._bokeh_onload_callbacks.push(callback);\n",
       "    if (root._bokeh_is_loading > 0) {\n",
       "      console.log(\"Bokeh: BokehJS is being loaded, scheduling callback at\", now());\n",
       "      return null;\n",
       "    }\n",
       "    if (js_urls == null || js_urls.length === 0) {\n",
       "      run_callbacks();\n",
       "      return null;\n",
       "    }\n",
       "    console.log(\"Bokeh: BokehJS not loaded, scheduling load and callback at\", now());\n",
       "    root._bokeh_is_loading = js_urls.length;\n",
       "    for (var i = 0; i < js_urls.length; i++) {\n",
       "      var url = js_urls[i];\n",
       "      var s = document.createElement('script');\n",
       "      s.src = url;\n",
       "      s.async = false;\n",
       "      s.onreadystatechange = s.onload = function() {\n",
       "        root._bokeh_is_loading--;\n",
       "        if (root._bokeh_is_loading === 0) {\n",
       "          console.log(\"Bokeh: all BokehJS libraries loaded\");\n",
       "          run_callbacks()\n",
       "        }\n",
       "      };\n",
       "      s.onerror = function() {\n",
       "        console.warn(\"failed to load library \" + url);\n",
       "      };\n",
       "      console.log(\"Bokeh: injecting script tag for BokehJS library: \", url);\n",
       "      document.getElementsByTagName(\"head\")[0].appendChild(s);\n",
       "    }\n",
       "  };var element = document.getElementById(\"68d6b01d-caf9-4a46-80a6-59b96b030ee1\");\n",
       "  if (element == null) {\n",
       "    console.log(\"Bokeh: ERROR: autoload.js configured with elementid '68d6b01d-caf9-4a46-80a6-59b96b030ee1' but no matching script tag was found. \")\n",
       "    return false;\n",
       "  }\n",
       "\n",
       "  var js_urls = [\"https://cdn.pydata.org/bokeh/release/bokeh-0.12.9.min.js\", \"https://cdn.pydata.org/bokeh/release/bokeh-widgets-0.12.9.min.js\", \"https://cdn.pydata.org/bokeh/release/bokeh-tables-0.12.9.min.js\", \"https://cdn.pydata.org/bokeh/release/bokeh-gl-0.12.9.min.js\"];\n",
       "\n",
       "  var inline_js = [\n",
       "    function(Bokeh) {\n",
       "      Bokeh.set_log_level(\"info\");\n",
       "    },\n",
       "    \n",
       "    function(Bokeh) {\n",
       "      \n",
       "    },\n",
       "    function(Bokeh) {\n",
       "      console.log(\"Bokeh: injecting CSS: https://cdn.pydata.org/bokeh/release/bokeh-0.12.9.min.css\");\n",
       "      Bokeh.embed.inject_css(\"https://cdn.pydata.org/bokeh/release/bokeh-0.12.9.min.css\");\n",
       "      console.log(\"Bokeh: injecting CSS: https://cdn.pydata.org/bokeh/release/bokeh-widgets-0.12.9.min.css\");\n",
       "      Bokeh.embed.inject_css(\"https://cdn.pydata.org/bokeh/release/bokeh-widgets-0.12.9.min.css\");\n",
       "      console.log(\"Bokeh: injecting CSS: https://cdn.pydata.org/bokeh/release/bokeh-tables-0.12.9.min.css\");\n",
       "      Bokeh.embed.inject_css(\"https://cdn.pydata.org/bokeh/release/bokeh-tables-0.12.9.min.css\");\n",
       "    }\n",
       "  ];\n",
       "\n",
       "  function run_inline_js() {\n",
       "    \n",
       "    if ((root.Bokeh !== undefined) || (force === true)) {\n",
       "      for (var i = 0; i < inline_js.length; i++) {\n",
       "        inline_js[i].call(root, root.Bokeh);\n",
       "      }if (force === true) {\n",
       "        display_loaded();\n",
       "      }} else if (Date.now() < root._bokeh_timeout) {\n",
       "      setTimeout(run_inline_js, 100);\n",
       "    } else if (!root._bokeh_failed_load) {\n",
       "      console.log(\"Bokeh: BokehJS failed to load within specified timeout.\");\n",
       "      root._bokeh_failed_load = true;\n",
       "    } else if (force !== true) {\n",
       "      var cell = $(document.getElementById(\"68d6b01d-caf9-4a46-80a6-59b96b030ee1\")).parents('.cell').data().cell;\n",
       "      cell.output_area.append_execute_result(NB_LOAD_WARNING)\n",
       "    }\n",
       "\n",
       "  }\n",
       "\n",
       "  if (root._bokeh_is_loading === 0) {\n",
       "    console.log(\"Bokeh: BokehJS loaded, going straight to plotting\");\n",
       "    run_inline_js();\n",
       "  } else {\n",
       "    load_libs(js_urls, function() {\n",
       "      console.log(\"Bokeh: BokehJS plotting callback run at\", now());\n",
       "      run_inline_js();\n",
       "    });\n",
       "  }\n",
       "}(window));"
      ],
      "application/vnd.bokehjs_load.v0+json": "\n(function(root) {\n  function now() {\n    return new Date();\n  }\n\n  var force = true;\n\n  if (typeof (root._bokeh_onload_callbacks) === \"undefined\" || force === true) {\n    root._bokeh_onload_callbacks = [];\n    root._bokeh_is_loading = undefined;\n  }\n\n  \n\n  \n  if (typeof (root._bokeh_timeout) === \"undefined\" || force === true) {\n    root._bokeh_timeout = Date.now() + 5000;\n    root._bokeh_failed_load = false;\n  }\n\n  var NB_LOAD_WARNING = {'data': {'text/html':\n     \"<div style='background-color: #fdd'>\\n\"+\n     \"<p>\\n\"+\n     \"BokehJS does not appear to have successfully loaded. If loading BokehJS from CDN, this \\n\"+\n     \"may be due to a slow or bad network connection. Possible fixes:\\n\"+\n     \"</p>\\n\"+\n     \"<ul>\\n\"+\n     \"<li>re-rerun `output_notebook()` to attempt to load from CDN again, or</li>\\n\"+\n     \"<li>use INLINE resources instead, as so:</li>\\n\"+\n     \"</ul>\\n\"+\n     \"<code>\\n\"+\n     \"from bokeh.resources import INLINE\\n\"+\n     \"output_notebook(resources=INLINE)\\n\"+\n     \"</code>\\n\"+\n     \"</div>\"}};\n\n  function display_loaded() {\n    var el = document.getElementById(\"68d6b01d-caf9-4a46-80a6-59b96b030ee1\");\n    if (el != null) {\n      el.textContent = \"BokehJS is loading...\";\n    }\n    if (root.Bokeh !== undefined) {\n      if (el != null) {\n        el.textContent = \"BokehJS \" + root.Bokeh.version + \" successfully loaded.\";\n      }\n    } else if (Date.now() < root._bokeh_timeout) {\n      setTimeout(display_loaded, 100)\n    }\n  }\n\n\n  function run_callbacks() {\n    try {\n      root._bokeh_onload_callbacks.forEach(function(callback) { callback() });\n    }\n    finally {\n      delete root._bokeh_onload_callbacks\n    }\n    console.info(\"Bokeh: all callbacks have finished\");\n  }\n\n  function load_libs(js_urls, callback) {\n    root._bokeh_onload_callbacks.push(callback);\n    if (root._bokeh_is_loading > 0) {\n      console.log(\"Bokeh: BokehJS is being loaded, scheduling callback at\", now());\n      return null;\n    }\n    if (js_urls == null || js_urls.length === 0) {\n      run_callbacks();\n      return null;\n    }\n    console.log(\"Bokeh: BokehJS not loaded, scheduling load and callback at\", now());\n    root._bokeh_is_loading = js_urls.length;\n    for (var i = 0; i < js_urls.length; i++) {\n      var url = js_urls[i];\n      var s = document.createElement('script');\n      s.src = url;\n      s.async = false;\n      s.onreadystatechange = s.onload = function() {\n        root._bokeh_is_loading--;\n        if (root._bokeh_is_loading === 0) {\n          console.log(\"Bokeh: all BokehJS libraries loaded\");\n          run_callbacks()\n        }\n      };\n      s.onerror = function() {\n        console.warn(\"failed to load library \" + url);\n      };\n      console.log(\"Bokeh: injecting script tag for BokehJS library: \", url);\n      document.getElementsByTagName(\"head\")[0].appendChild(s);\n    }\n  };var element = document.getElementById(\"68d6b01d-caf9-4a46-80a6-59b96b030ee1\");\n  if (element == null) {\n    console.log(\"Bokeh: ERROR: autoload.js configured with elementid '68d6b01d-caf9-4a46-80a6-59b96b030ee1' but no matching script tag was found. \")\n    return false;\n  }\n\n  var js_urls = [\"https://cdn.pydata.org/bokeh/release/bokeh-0.12.9.min.js\", \"https://cdn.pydata.org/bokeh/release/bokeh-widgets-0.12.9.min.js\", \"https://cdn.pydata.org/bokeh/release/bokeh-tables-0.12.9.min.js\", \"https://cdn.pydata.org/bokeh/release/bokeh-gl-0.12.9.min.js\"];\n\n  var inline_js = [\n    function(Bokeh) {\n      Bokeh.set_log_level(\"info\");\n    },\n    \n    function(Bokeh) {\n      \n    },\n    function(Bokeh) {\n      console.log(\"Bokeh: injecting CSS: https://cdn.pydata.org/bokeh/release/bokeh-0.12.9.min.css\");\n      Bokeh.embed.inject_css(\"https://cdn.pydata.org/bokeh/release/bokeh-0.12.9.min.css\");\n      console.log(\"Bokeh: injecting CSS: https://cdn.pydata.org/bokeh/release/bokeh-widgets-0.12.9.min.css\");\n      Bokeh.embed.inject_css(\"https://cdn.pydata.org/bokeh/release/bokeh-widgets-0.12.9.min.css\");\n      console.log(\"Bokeh: injecting CSS: https://cdn.pydata.org/bokeh/release/bokeh-tables-0.12.9.min.css\");\n      Bokeh.embed.inject_css(\"https://cdn.pydata.org/bokeh/release/bokeh-tables-0.12.9.min.css\");\n    }\n  ];\n\n  function run_inline_js() {\n    \n    if ((root.Bokeh !== undefined) || (force === true)) {\n      for (var i = 0; i < inline_js.length; i++) {\n        inline_js[i].call(root, root.Bokeh);\n      }if (force === true) {\n        display_loaded();\n      }} else if (Date.now() < root._bokeh_timeout) {\n      setTimeout(run_inline_js, 100);\n    } else if (!root._bokeh_failed_load) {\n      console.log(\"Bokeh: BokehJS failed to load within specified timeout.\");\n      root._bokeh_failed_load = true;\n    } else if (force !== true) {\n      var cell = $(document.getElementById(\"68d6b01d-caf9-4a46-80a6-59b96b030ee1\")).parents('.cell').data().cell;\n      cell.output_area.append_execute_result(NB_LOAD_WARNING)\n    }\n\n  }\n\n  if (root._bokeh_is_loading === 0) {\n    console.log(\"Bokeh: BokehJS loaded, going straight to plotting\");\n    run_inline_js();\n  } else {\n    load_libs(js_urls, function() {\n      console.log(\"Bokeh: BokehJS plotting callback run at\", now());\n      run_inline_js();\n    });\n  }\n}(window));"
     },
     "metadata": {},
     "output_type": "display_data"
    }
   ],
   "source": [
    "from bokeh.models import ColumnDataSource, LabelSet\n",
    "from bokeh.plotting import figure, show, output_file\n",
    "from bokeh.io import output_notebook\n",
    "output_notebook()"
   ]
  },
  {
   "cell_type": "markdown",
   "metadata": {},
   "source": [
    "<h2>There are many neutral meaning words which could be eliminated</h2>"
   ]
  },
  {
   "cell_type": "code",
   "execution_count": 111,
   "metadata": {},
   "outputs": [
    {
     "data": {
      "text/html": [
       "\n",
       "<div class=\"bk-root\">\n",
       "    <div class=\"bk-plotdiv\" id=\"a702ac65-b0f0-4968-ba99-f9e9ccea3859\"></div>\n",
       "</div>"
      ]
     },
     "metadata": {},
     "output_type": "display_data"
    },
    {
     "data": {
      "application/javascript": [
       "(function(root) {\n",
       "  function embed_document(root) {\n",
       "    var docs_json = {\"3dff72fe-cf8f-4e7a-bf07-a902abbb14ea\":{\"roots\":{\"references\":[{\"attributes\":{\"plot\":null,\"text\":\"Word Positive/Negative Affinity Distribution\"},\"id\":\"e58696f3-72ee-43f4-b7a6-a84d9a88cc26\",\"type\":\"Title\"},{\"attributes\":{},\"id\":\"077b4aa5-d526-4a85-96e6-ffa97f8dd009\",\"type\":\"WheelZoomTool\"},{\"attributes\":{},\"id\":\"121f4d0b-8778-4bb7-900b-c16a04430d6f\",\"type\":\"BasicTicker\"},{\"attributes\":{},\"id\":\"7852a7d6-9642-4a93-9676-bbdd22999320\",\"type\":\"SaveTool\"},{\"attributes\":{\"plot\":{\"id\":\"c5e89f23-0f64-4512-b1b5-9d5fe07ae53b\",\"subtype\":\"Figure\",\"type\":\"Plot\"},\"ticker\":{\"id\":\"52b7fcf9-8d6f-40f2-a52d-400055c0e3d4\",\"type\":\"BasicTicker\"}},\"id\":\"622b1760-4c23-4dc1-96c1-80157310cd23\",\"type\":\"Grid\"},{\"attributes\":{},\"id\":\"52b7fcf9-8d6f-40f2-a52d-400055c0e3d4\",\"type\":\"BasicTicker\"},{\"attributes\":{},\"id\":\"1669d56f-1183-4db2-853f-28860379e3a5\",\"type\":\"BasicTickFormatter\"},{\"attributes\":{\"callback\":null},\"id\":\"5fb62c31-2a45-46d3-b299-fb7ec6d19791\",\"type\":\"DataRange1d\"},{\"attributes\":{\"formatter\":{\"id\":\"65f78084-eea7-4270-ac30-da4ce5b2a9d0\",\"type\":\"BasicTickFormatter\"},\"plot\":{\"id\":\"c5e89f23-0f64-4512-b1b5-9d5fe07ae53b\",\"subtype\":\"Figure\",\"type\":\"Plot\"},\"ticker\":{\"id\":\"52b7fcf9-8d6f-40f2-a52d-400055c0e3d4\",\"type\":\"BasicTicker\"}},\"id\":\"9757da60-22c5-4e59-9b76-f293fd31f3c9\",\"type\":\"LinearAxis\"},{\"attributes\":{},\"id\":\"8b448c99-c346-410e-94b1-16b7fdf4ec83\",\"type\":\"ResetTool\"},{\"attributes\":{\"bottom\":{\"value\":0},\"fill_alpha\":{\"value\":0.1},\"fill_color\":{\"value\":\"#1f77b4\"},\"left\":{\"field\":\"left\"},\"line_alpha\":{\"value\":0.1},\"line_color\":{\"value\":\"#1f77b4\"},\"right\":{\"field\":\"right\"},\"top\":{\"field\":\"top\"}},\"id\":\"cb80fb01-da13-417e-819a-07104d52db68\",\"type\":\"Quad\"},{\"attributes\":{\"dimension\":1,\"plot\":{\"id\":\"c5e89f23-0f64-4512-b1b5-9d5fe07ae53b\",\"subtype\":\"Figure\",\"type\":\"Plot\"},\"ticker\":{\"id\":\"121f4d0b-8778-4bb7-900b-c16a04430d6f\",\"type\":\"BasicTicker\"}},\"id\":\"c45e58d2-869c-496c-9ab1-9d128f6d66c2\",\"type\":\"Grid\"},{\"attributes\":{\"bottom\":{\"value\":0},\"fill_color\":{\"value\":\"#1f77b4\"},\"left\":{\"field\":\"left\"},\"line_color\":{\"value\":\"#555555\"},\"right\":{\"field\":\"right\"},\"top\":{\"field\":\"top\"}},\"id\":\"99539559-d1cb-4194-ad11-e62278bd7ede\",\"type\":\"Quad\"},{\"attributes\":{\"data_source\":{\"id\":\"c6a8ffd8-c28a-4aa9-a8e5-d23a1242559f\",\"type\":\"ColumnDataSource\"},\"glyph\":{\"id\":\"99539559-d1cb-4194-ad11-e62278bd7ede\",\"type\":\"Quad\"},\"hover_glyph\":null,\"muted_glyph\":null,\"nonselection_glyph\":{\"id\":\"cb80fb01-da13-417e-819a-07104d52db68\",\"type\":\"Quad\"},\"selection_glyph\":null,\"view\":{\"id\":\"74834722-55d3-4efe-a945-43c1261bfdd5\",\"type\":\"CDSView\"}},\"id\":\"ec21b780-0e03-4763-a1c0-27870d045b39\",\"type\":\"GlyphRenderer\"},{\"attributes\":{},\"id\":\"6eba5635-fdff-497c-8544-e93e7cfb5eb8\",\"type\":\"LinearScale\"},{\"attributes\":{\"formatter\":{\"id\":\"1669d56f-1183-4db2-853f-28860379e3a5\",\"type\":\"BasicTickFormatter\"},\"plot\":{\"id\":\"c5e89f23-0f64-4512-b1b5-9d5fe07ae53b\",\"subtype\":\"Figure\",\"type\":\"Plot\"},\"ticker\":{\"id\":\"121f4d0b-8778-4bb7-900b-c16a04430d6f\",\"type\":\"BasicTicker\"}},\"id\":\"7c462f86-f855-4f45-b5fc-50a42e8fc6ce\",\"type\":\"LinearAxis\"},{\"attributes\":{},\"id\":\"47494b11-8cd6-4d73-ab1f-894a3b87bef1\",\"type\":\"LinearScale\"},{\"attributes\":{},\"id\":\"c707dd28-88db-46eb-88c0-0c38a83c5e7e\",\"type\":\"PanTool\"},{\"attributes\":{},\"id\":\"65f78084-eea7-4270-ac30-da4ce5b2a9d0\",\"type\":\"BasicTickFormatter\"},{\"attributes\":{\"active_drag\":\"auto\",\"active_inspect\":\"auto\",\"active_scroll\":\"auto\",\"active_tap\":\"auto\",\"tools\":[{\"id\":\"c707dd28-88db-46eb-88c0-0c38a83c5e7e\",\"type\":\"PanTool\"},{\"id\":\"077b4aa5-d526-4a85-96e6-ffa97f8dd009\",\"type\":\"WheelZoomTool\"},{\"id\":\"8b448c99-c346-410e-94b1-16b7fdf4ec83\",\"type\":\"ResetTool\"},{\"id\":\"7852a7d6-9642-4a93-9676-bbdd22999320\",\"type\":\"SaveTool\"}]},\"id\":\"c1efeb9b-efa0-4bf8-8535-629c57e88e9f\",\"type\":\"Toolbar\"},{\"attributes\":{\"callback\":null,\"column_names\":[\"top\",\"left\",\"right\"],\"data\":{\"left\":{\"__ndarray__\":\"dfdvx/iH7L8CVAKCPn3rv4+wlDyEcuq/HA0n98ln6b+pabmxD13ovzbGS2xVUue/xCLeJptH5r9Qf3Dh4Dzlv97bApwmMuS/ajiVVmwn47/4lCcRshziv4Txucv3EeG/Ek5Mhj0H4L8+Vb2BBvndv1gO4vaR49u/cscGbB3O2b+MgCvhqLjXv6Y5UFY0o9W/wPJ0y7+N07/aq5lAS3jRv+jJfGutxc6/HDzGVcSayr9Qrg9A22/Gv4QgWSryRMK/eCVFKRI0vL/gCdj9P96zv5Dc1aTbEKe/gJXuN92Uib+gI70R2oyUPwDJuF8R8qo/GIBJ29rOtT+4m7YGrSS+P6TbEZk/PcM/bGnIrihoxz88937EEZPLPwSFNdr6vc8/agn293H00T9OUNGC5gnUPzaXrA1bH9Y/Gt6HmM802D8CJWMjREraP+ZrPq64X9w/zrIZOS113j/ZfPrhUEXgP00gaCcLUOE/v8PVbMVa4j8zZ0Oyf2XjP6UKsfc5cOQ/F64ePfR65T+LUYyCroXmP/30+cdokOc/cZhnDSOb6D/jO9VS3aXpP1ffQpiXsOo/yYKw3VG76z89Jh4jDMbsP6/Ji2jG0O0/I235rYDb7j+VEGfzOubvPwRaapx6ePA/vishv9f98D94/dfhNIPxPzLPjgSSCPI/6qBFJ++N8j+kcvxJTBPzP15Es2ypmPM/FhZqjwYe9D/Q5yCyY6P0P4q519TAKPU/RIuO9x2u9T/8XEUaezP2P7Yu/DzYuPY/cACzXzU+9z8q0mmCksP3P+KjIKXvSPg/nHXXx0zO+D9WR47qqVP5PxAZRQ0H2fk/yOr7L2Re+j+CvLJSweP6PzyOaXUeafs/9F8gmHvu+z+uMde62HP8P2gDjt01+fw/ItVEAJN+/T/apvsi8AP+P5R4skVNif4/TkppaKoO/z8IHCCLB5T/P+B261ayDABAvd9G6GBPAECaSKJ5D5IAQHex/Qq+1ABAUxpZnGwXAUAwg7QtG1oBQA3sD7/JnAFA6VRrUHjfAUDGvcbhJiICQKMmInPVZAJAgI99BISnAkA=\",\"dtype\":\"float64\",\"shape\":[100]},\"right\":{\"__ndarray__\":\"AlQCgj5967+PsJQ8hHLqvxwNJ/fJZ+m/qWm5sQ9d6L82xktsVVLnv8Qi3iabR+a/UH9w4eA85b/e2wKcJjLkv2o4lVZsJ+O/+JQnEbIc4r+E8bnL9xHhvxJOTIY9B+C/PlW9gQb53b9YDuL2kePbv3LHBmwdztm/jIAr4ai417+mOVBWNKPVv8DydMu/jdO/2quZQEt40b/oyXxrrcXOvxw8xlXEmsq/UK4PQNtvxr+EIFkq8kTCv3glRSkSNLy/4AnY/T/es7+Q3NWk2xCnv4CV7jfdlIm/oCO9EdqMlD8AybhfEfKqPxiASdvazrU/uJu2Bq0kvj+k2xGZPz3DP2xpyK4oaMc/PPd+xBGTyz8EhTXa+r3PP2oJ9vdx9NE/TlDRguYJ1D82l6wNWx/WPxreh5jPNNg/AiVjI0RK2j/maz6uuF/cP86yGTktdd4/2Xz64VBF4D9NIGgnC1DhP7/D1WzFWuI/M2dDsn9l4z+lCrH3OXDkPxeuHj30euU/i1GMgq6F5j/99PnHaJDnP3GYZw0jm+g/4zvVUt2l6T9X30KYl7DqP8mCsN1Ru+s/PSYeIwzG7D+vyYtoxtDtPyNt+a2A2+4/lRBn8zrm7z8EWmqcenjwP74rIb/X/fA/eP3X4TSD8T8yz44EkgjyP+qgRSfvjfI/pHL8SUwT8z9eRLNsqZjzPxYWao8GHvQ/0OcgsmOj9D+KudfUwCj1P0SLjvcdrvU//FxFGnsz9j+2Lvw82Lj2P3AAs181Pvc/KtJpgpLD9z/ioyCl70j4P5x118dMzvg/VkeO6qlT+T8QGUUNB9n5P8jq+y9kXvo/gryyUsHj+j88jml1Hmn7P/RfIJh77vs/rjHXuthz/D9oA47dNfn8PyLVRACTfv0/2qb7IvAD/j+UeLJFTYn+P05KaWiqDv8/CBwgiweU/z/gdutWsgwAQL3fRuhgTwBAmkiieQ+SAEB3sf0KvtQAQFMaWZxsFwFAMIO0LRtaAUAN7A+/yZwBQOlUa1B43wFAxr3G4SYiAkCjJiJz1WQCQICPfQSEpwJAXPjYlTLqAkA=\",\"dtype\":\"float64\",\"shape\":[100]},\"top\":{\"__ndarray__\":\"ae4/u46Trz8AAAAAAAAAAAAAAAAAAAAAAAAAAAAAAAAAAAAAAAAAAAAAAAAAAAAAAAAAAAAAAAAAAAAAAAAAAAAAAAAAAAAAAAAAAAAAAAAAAAAAAAAAAAAAAAAAAAAAAAAAAAAAAAAAAAAAAAAAAAAAAAAAAAAAAAAAAAAAAAAAAAAAAAAAAAAAAAAAAAAAAAAAAAAAAAAAAAAAAAAAAAAAAAAAAAAAAAAAAAAAAAAAAAAAAAAAAAAAAAAAAAAAAAAAAAAAAAAAAAAAAAAAAAAAAAAAAAAAae4/u46Tvz9p7j+7jpO/P2nuP7uOk78/AAAAAAAAAAAAAAAAAAAAAIfuP7uOk68/AAAAAAAAAACH7j+7jpOvP7jybwyrrsc/h+4/u46Tvz9K7j+7jpPPPwAAAAAAAAAASu4/u46T3z8V9Qc1ObzjP7jybwyrrsc/tvDX4xyh2z/v9Ac1ObzTP4fuP7uOk78/uPJvDKuu1z+28NfjHKHbP4fuP7uOk78/7/QHNTm84z/l8m8Mq67XP9PzuyByteU/5fJvDKuu5z/T87sgcrXlP7j2edNjxvA/gfDX4xyh6z+49nnTY8bwP3z1Lb+cv/I/h+4/u46T7z8b9lNJAMPxP4Hw1+Mcofs/fPUtv5y/8j8J9lNJAMPxP9fvi89Vmv0/Su4/u46T7z9F85WWDrL2P9j2edNjxvA/YfThqtW49D9m74vPVZrtP9PzuyByteU/O/UHNTm84z8J9lNJAMPhP+/0BzU5vOM/Su4/u46T3z8T828Mq67HP7jybwyrrtc/Su4/u46Tzz/v9Ac1ObzTPxPzbwyrrtc/Su4/u46Tvz9K7j+7jpOvPxPzbwyrrsc/uPJvDKuuxz+48m8Mq67HPwAAAAAAAAAAw+4/u46Trz9K7j+7jpOvP0ruP7uOk68/Su4/u46Trz8AAAAAAAAAAAAAAAAAAAAAAAAAAAAAAABK7j+7jpOvPwAAAAAAAAAAAAAAAAAAAAAAAAAAAAAAAAAAAAAAAAAASu4/u46Trz9K7j+7jpOvPwAAAAAAAAAAw+4/u46Trz8=\",\"dtype\":\"float64\",\"shape\":[100]}}},\"id\":\"c6a8ffd8-c28a-4aa9-a8e5-d23a1242559f\",\"type\":\"ColumnDataSource\"},{\"attributes\":{\"callback\":null},\"id\":\"06b32d65-dcc3-4186-bfb4-3afe24853d14\",\"type\":\"DataRange1d\"},{\"attributes\":{\"source\":{\"id\":\"c6a8ffd8-c28a-4aa9-a8e5-d23a1242559f\",\"type\":\"ColumnDataSource\"}},\"id\":\"74834722-55d3-4efe-a945-43c1261bfdd5\",\"type\":\"CDSView\"},{\"attributes\":{\"below\":[{\"id\":\"9757da60-22c5-4e59-9b76-f293fd31f3c9\",\"type\":\"LinearAxis\"}],\"left\":[{\"id\":\"7c462f86-f855-4f45-b5fc-50a42e8fc6ce\",\"type\":\"LinearAxis\"}],\"renderers\":[{\"id\":\"9757da60-22c5-4e59-9b76-f293fd31f3c9\",\"type\":\"LinearAxis\"},{\"id\":\"622b1760-4c23-4dc1-96c1-80157310cd23\",\"type\":\"Grid\"},{\"id\":\"7c462f86-f855-4f45-b5fc-50a42e8fc6ce\",\"type\":\"LinearAxis\"},{\"id\":\"c45e58d2-869c-496c-9ab1-9d128f6d66c2\",\"type\":\"Grid\"},{\"id\":\"ec21b780-0e03-4763-a1c0-27870d045b39\",\"type\":\"GlyphRenderer\"}],\"title\":{\"id\":\"e58696f3-72ee-43f4-b7a6-a84d9a88cc26\",\"type\":\"Title\"},\"toolbar\":{\"id\":\"c1efeb9b-efa0-4bf8-8535-629c57e88e9f\",\"type\":\"Toolbar\"},\"toolbar_location\":\"above\",\"x_range\":{\"id\":\"5fb62c31-2a45-46d3-b299-fb7ec6d19791\",\"type\":\"DataRange1d\"},\"x_scale\":{\"id\":\"6eba5635-fdff-497c-8544-e93e7cfb5eb8\",\"type\":\"LinearScale\"},\"y_range\":{\"id\":\"06b32d65-dcc3-4186-bfb4-3afe24853d14\",\"type\":\"DataRange1d\"},\"y_scale\":{\"id\":\"47494b11-8cd6-4d73-ab1f-894a3b87bef1\",\"type\":\"LinearScale\"}},\"id\":\"c5e89f23-0f64-4512-b1b5-9d5fe07ae53b\",\"subtype\":\"Figure\",\"type\":\"Plot\"}],\"root_ids\":[\"c5e89f23-0f64-4512-b1b5-9d5fe07ae53b\"]},\"title\":\"Bokeh Application\",\"version\":\"0.12.9\"}};\n",
       "    var render_items = [{\"docid\":\"3dff72fe-cf8f-4e7a-bf07-a902abbb14ea\",\"elementid\":\"a702ac65-b0f0-4968-ba99-f9e9ccea3859\",\"modelid\":\"c5e89f23-0f64-4512-b1b5-9d5fe07ae53b\"}];\n",
       "\n",
       "    root.Bokeh.embed.embed_items(docs_json, render_items);\n",
       "  }\n",
       "\n",
       "  if (root.Bokeh !== undefined) {\n",
       "    embed_document(root);\n",
       "  } else {\n",
       "    var attempts = 0;\n",
       "    var timer = setInterval(function(root) {\n",
       "      if (root.Bokeh !== undefined) {\n",
       "        embed_document(root);\n",
       "        clearInterval(timer);\n",
       "      }\n",
       "      attempts++;\n",
       "      if (attempts > 100) {\n",
       "        console.log(\"Bokeh: ERROR: Unable to embed document because BokehJS library is missing\")\n",
       "        clearInterval(timer);\n",
       "      }\n",
       "    }, 10, root)\n",
       "  }\n",
       "})(window);"
      ],
      "application/vnd.bokehjs_exec.v0+json": ""
     },
     "metadata": {
      "application/vnd.bokehjs_exec.v0+json": {
       "id": "c5e89f23-0f64-4512-b1b5-9d5fe07ae53b"
      }
     },
     "output_type": "display_data"
    }
   ],
   "source": [
    "hist, edges = np.histogram(list(map(lambda x:x[1],pos_neg_ratios.most_common())), density=True, bins=100, normed=True)\n",
    "\n",
    "p = figure(tools=\"pan,wheel_zoom,reset,save\",\n",
    "           toolbar_location=\"above\",\n",
    "           title=\"Word Positive/Negative Affinity Distribution\")\n",
    "p.quad(top=hist, bottom=0, left=edges[:-1], right=edges[1:], line_color=\"#555555\")\n",
    "show(p)"
   ]
  },
  {
   "cell_type": "markdown",
   "metadata": {},
   "source": [
    "<h2>There are some words occurring frequently</h2>"
   ]
  },
  {
   "cell_type": "code",
   "execution_count": 112,
   "metadata": {},
   "outputs": [
    {
     "data": {
      "text/html": [
       "\n",
       "<div class=\"bk-root\">\n",
       "    <div class=\"bk-plotdiv\" id=\"fa7721ae-b201-4006-bd99-17e24df709fa\"></div>\n",
       "</div>"
      ]
     },
     "metadata": {},
     "output_type": "display_data"
    },
    {
     "data": {
      "application/javascript": [
       "(function(root) {\n",
       "  function embed_document(root) {\n",
       "    var docs_json = {\"7c3c2ea7-b192-41cb-a826-44e1aa474e51\":{\"roots\":{\"references\":[{\"attributes\":{},\"id\":\"1ccefb76-943b-4fe4-a7f3-11fda5df0fa9\",\"type\":\"WheelZoomTool\"},{\"attributes\":{\"source\":{\"id\":\"0fee1d5a-ea3a-49ec-9c8a-6e0e7df12b00\",\"type\":\"ColumnDataSource\"}},\"id\":\"2e5e5298-4559-4237-8169-160d00682aa0\",\"type\":\"CDSView\"},{\"attributes\":{\"plot\":{\"id\":\"f88244fc-72a9-4777-8c74-6dd6ded7c6ec\",\"subtype\":\"Figure\",\"type\":\"Plot\"},\"ticker\":{\"id\":\"5d514e6b-a070-43f9-bc30-ea5c980d1c63\",\"type\":\"BasicTicker\"}},\"id\":\"46f13115-f9d0-45e6-a62d-3da8a2c80d03\",\"type\":\"Grid\"},{\"attributes\":{\"bottom\":{\"value\":0},\"fill_color\":{\"value\":\"#1f77b4\"},\"left\":{\"field\":\"left\"},\"line_color\":{\"value\":\"#555555\"},\"right\":{\"field\":\"right\"},\"top\":{\"field\":\"top\"}},\"id\":\"4ffe3bcc-5c86-4241-bc92-be755525bbf6\",\"type\":\"Quad\"},{\"attributes\":{\"callback\":null},\"id\":\"9d3b2665-cef8-4082-bcce-f5e82aa94727\",\"type\":\"DataRange1d\"},{\"attributes\":{},\"id\":\"e1cc2cd9-3522-4b82-8da7-624e2e0a03df\",\"type\":\"LinearScale\"},{\"attributes\":{\"callback\":null},\"id\":\"a8877d80-0823-45a1-b99f-2a4fbd0abab1\",\"type\":\"DataRange1d\"},{\"attributes\":{},\"id\":\"527b1006-7614-44d4-8808-5169abab06ae\",\"type\":\"LinearScale\"},{\"attributes\":{},\"id\":\"bc058a83-caf0-4c2d-ae6d-2220ce808388\",\"type\":\"BasicTickFormatter\"},{\"attributes\":{},\"id\":\"d622acf0-4fe6-490c-a35a-19f3a6e613e3\",\"type\":\"PanTool\"},{\"attributes\":{},\"id\":\"5d514e6b-a070-43f9-bc30-ea5c980d1c63\",\"type\":\"BasicTicker\"},{\"attributes\":{\"bottom\":{\"value\":0},\"fill_alpha\":{\"value\":0.1},\"fill_color\":{\"value\":\"#1f77b4\"},\"left\":{\"field\":\"left\"},\"line_alpha\":{\"value\":0.1},\"line_color\":{\"value\":\"#1f77b4\"},\"right\":{\"field\":\"right\"},\"top\":{\"field\":\"top\"}},\"id\":\"fc8ba873-7159-4b39-b24b-44b1902307b4\",\"type\":\"Quad\"},{\"attributes\":{\"formatter\":{\"id\":\"c7999a2f-5848-457f-9e8d-d4383508e36e\",\"type\":\"BasicTickFormatter\"},\"plot\":{\"id\":\"f88244fc-72a9-4777-8c74-6dd6ded7c6ec\",\"subtype\":\"Figure\",\"type\":\"Plot\"},\"ticker\":{\"id\":\"5d514e6b-a070-43f9-bc30-ea5c980d1c63\",\"type\":\"BasicTicker\"}},\"id\":\"9a738b61-98a6-4f9a-8e01-bbe951f51bee\",\"type\":\"LinearAxis\"},{\"attributes\":{},\"id\":\"c7999a2f-5848-457f-9e8d-d4383508e36e\",\"type\":\"BasicTickFormatter\"},{\"attributes\":{},\"id\":\"60bbb24b-08cc-4729-93b2-51dd9fbeb0a3\",\"type\":\"ResetTool\"},{\"attributes\":{\"callback\":null,\"column_names\":[\"top\",\"left\",\"right\"],\"data\":{\"left\":{\"__ndarray__\":\"AAAAAAAA8D/sUbgehTWBQOxRuB6FMZFA4noUrkfImUDsUbgehS+hQGdmZmbmeqVA4noUrkfGqUBdj8L1qBGuQOxRuB6FLrFAKlyPwjVUs0BnZmZm5nm1QKRwPQqXn7dA4noUrkfFuUAghetR+Oq7QF2PwvWoEL5AzczMzCwbwEDsUbgeBS7BQAvXo3DdQMJAKlyPwrVTw0BI4XoUjmbEQGdmZmZmecVAhutRuD6MxkCkcD0KF5/HQMP1KFzvschA4noUrsfEyUABAAAAoNfKQCCF61F46stAPgrXo1D9zEBdj8L1KBDOQHwUrkcBI89AzczMzOwa0EBdj8L1WKTQQOxRuB7FLdFAexSuRzG30UAL16NwnUDSQJqZmZkJytJAKlyPwnVT00C5HoXr4dzTQEjhehROZtRA2KNwPbrv1EBnZmZmJnnVQPYoXI+SAtZAhutRuP6L1kAVrkfhahXXQKRwPQrXntdANDMzM0Mo2EDD9Shcr7HYQFO4HoUbO9lA4noUrofE2UBxPQrX803aQAEAAABg19pAkML1KMxg20AghetROOrbQK9H4Xqkc9xAPgrXoxD93EDOzMzMfIbdQF2PwvXoD95A7FG4HlWZ3kB8FK5HwSLfQAvXo3AtrN9AzczMzMwa4EAVrkfhgl/gQF2PwvU4pOBApHA9Cu/o4EDsUbgepS3hQDQzMzNbcuFAexSuRxG34UDD9Shcx/vhQAvXo3B9QOJAUrgehTOF4kCamZmZ6cniQOJ6FK6fDuNAKlyPwlVT40BxPQrXC5jjQLkehevB3ONAAQAAAHgh5EBI4XoULmbkQJDC9SjkquRA2KNwPZrv5EAfhetRUDTlQGdmZmYGeeVAr0fhery95UD2KFyPcgLmQD4K16MoR+ZAhutRuN6L5kDNzMzMlNDmQBWuR+FKFedAXY/C9QBa50CkcD0Kt57nQOxRuB5t4+dANDMzMyMo6EB8FK5H2WzoQMP1KFyPsehAC9ejcEX26EBTuB6F+zrpQJqZmZmxf+lA4noUrmfE6UAqXI/CHQnqQHE9CtfTTepAuR6F64mS6kA=\",\"dtype\":\"float64\",\"shape\":[100]},\"right\":{\"__ndarray__\":\"7FG4HoU1gUDsUbgehTGRQOJ6FK5HyJlA7FG4HoUvoUBnZmZm5nqlQOJ6FK5HxqlAXY/C9agRrkDsUbgehS6xQCpcj8I1VLNAZ2ZmZuZ5tUCkcD0Kl5+3QOJ6FK5HxblAIIXrUfjqu0Bdj8L1qBC+QM3MzMwsG8BA7FG4HgUuwUAL16Nw3UDCQCpcj8K1U8NASOF6FI5mxEBnZmZmZnnFQIbrUbg+jMZApHA9Chefx0DD9Shc77HIQOJ6FK7HxMlAAQAAAKDXykAghetReOrLQD4K16NQ/cxAXY/C9SgQzkB8FK5HASPPQM3MzMzsGtBAXY/C9Vik0EDsUbgexS3RQHsUrkcxt9FAC9ejcJ1A0kCamZmZCcrSQCpcj8J1U9NAuR6F6+Hc00BI4XoUTmbUQNijcD2679RAZ2ZmZiZ51UD2KFyPkgLWQIbrUbj+i9ZAFa5H4WoV10CkcD0K157XQDQzMzNDKNhAw/UoXK+x2EBTuB6FGzvZQOJ6FK6HxNlAcT0K1/NN2kABAAAAYNfaQJDC9SjMYNtAIIXrUTjq20CvR+F6pHPcQD4K16MQ/dxAzszMzHyG3UBdj8L16A/eQOxRuB5Vmd5AfBSuR8Ei30AL16NwLazfQM3MzMzMGuBAFa5H4YJf4EBdj8L1OKTgQKRwPQrv6OBA7FG4HqUt4UA0MzMzW3LhQHsUrkcRt+FAw/UoXMf74UAL16NwfUDiQFK4HoUzheJAmpmZmenJ4kDiehSunw7jQCpcj8JVU+NAcT0K1wuY40C5HoXrwdzjQAEAAAB4IeRASOF6FC5m5ECQwvUo5KrkQNijcD2a7+RAH4XrUVA05UBnZmZmBnnlQK9H4Xq8veVA9ihcj3IC5kA+CtejKEfmQIbrUbjei+ZAzczMzJTQ5kAVrkfhShXnQF2PwvUAWudApHA9Cree50DsUbgebePnQDQzMzMjKOhAfBSuR9ls6EDD9Shcj7HoQAvXo3BF9uhAU7gehfs66UCamZmZsX/pQOJ6FK5nxOlAKlyPwh0J6kBxPQrX003qQLkeheuJkupAAAAAAEDX6kA=\",\"dtype\":\"float64\",\"shape\":[100]},\"top\":{\"__ndarray__\":\"cKnF2CBlXT+L6Fjeoh/jPovoWN6iH9M+AAAAAAAAAACL6Fjeoh/DPovoWN6iH8M+AAAAAAAAAAAAAAAAAAAAAAAAAAAAAAAAAAAAAAAAAACP6Fjeoh/DPgAAAAAAAAAAAAAAAAAAAAAAAAAAAAAAAAAAAAAAAAAAAAAAAAAAAAAAAAAAAAAAAAAAAAAAAAAAAAAAAAAAAAAAAAAAAAAAAAAAAAAAAAAAAAAAAAAAAACG6Fjeoh/DPgAAAAAAAAAAAAAAAAAAAAAAAAAAAAAAAAAAAAAAAAAAAAAAAAAAAAAAAAAAAAAAAAAAAAAAAAAAAAAAAAAAAAAAAAAAAAAAAAAAAAAAAAAAAAAAAAAAAAAAAAAAAAAAAAAAAAAAAAAAAAAAAAAAAAAAAAAAAAAAAAAAAAAAAAAAAAAAAAAAAAAAAAAAAAAAAAAAAAAAAAAAAAAAAAAAAAAAAAAAAAAAAAAAAAAAAAAAAAAAAAAAAAAAAAAAAAAAAAAAAAAAAAAAAAAAAAAAAAAAAAAAAAAAAAAAAAAAAAAAAAAAAAAAAAAAAAAAAAAAAAAAAAAAAAAAAAAAAAAAAAAAAAAAAAAAAAAAAAAAAAAAAAAAAAAAAAAAAAAAAAAAAAAAAAAAAAAAAAAAAAAAAAAAAAAAAAAAAAAAAAAAAAAAAAAAAAAAAAAAAAAAAAAAAAAAAAAAAAAAAAAAAAAAAAAAAAAAAAAAAAAAAAAAAAAAAAAAAAAAAAAAAAAAAAAAAAAAAAAAAAAAAAAAAAAAAAAAAAAAAAAAAAAAAAAAAAAAAAAAAAAAAAAAAAAAAAAAAAAAAAAAAAAAAAAAAAAAAAAAAAAAAAAAAAAAAAAAAAAAAAAAAAAAAAAAAAAAAAAAAAAAAAAAAAAAAAAAAAAAAAAAAAAAAAAAAAAAAAAAAAAAAAAAAAAAAAAAAAAAAAAAAAAAAAAAAAAAAAAAAAAAAAAAAAAAAAAAAAAAAAAAAAAAAAAAAAAAAAAAAAAAAAAAAAAAAAAAAAAAAAAAAAAAAAAAAAAAAAAAAAAAAAAAAAAAu+hY3qIfwz4=\",\"dtype\":\"float64\",\"shape\":[100]}}},\"id\":\"0fee1d5a-ea3a-49ec-9c8a-6e0e7df12b00\",\"type\":\"ColumnDataSource\"},{\"attributes\":{\"below\":[{\"id\":\"9a738b61-98a6-4f9a-8e01-bbe951f51bee\",\"type\":\"LinearAxis\"}],\"left\":[{\"id\":\"6767e1d7-b92f-4f39-8df0-4a1b7fe23077\",\"type\":\"LinearAxis\"}],\"renderers\":[{\"id\":\"9a738b61-98a6-4f9a-8e01-bbe951f51bee\",\"type\":\"LinearAxis\"},{\"id\":\"46f13115-f9d0-45e6-a62d-3da8a2c80d03\",\"type\":\"Grid\"},{\"id\":\"6767e1d7-b92f-4f39-8df0-4a1b7fe23077\",\"type\":\"LinearAxis\"},{\"id\":\"7ea3777e-e8eb-4709-b564-eef9ddcfed1e\",\"type\":\"Grid\"},{\"id\":\"9464ddd4-07e4-4e09-b9d7-8fea6f3c5b3c\",\"type\":\"GlyphRenderer\"}],\"title\":{\"id\":\"5889d085-0712-4202-933f-62281955f556\",\"type\":\"Title\"},\"toolbar\":{\"id\":\"4cee9de9-78d6-4e3d-af15-7f2abd86760d\",\"type\":\"Toolbar\"},\"toolbar_location\":\"above\",\"x_range\":{\"id\":\"9d3b2665-cef8-4082-bcce-f5e82aa94727\",\"type\":\"DataRange1d\"},\"x_scale\":{\"id\":\"527b1006-7614-44d4-8808-5169abab06ae\",\"type\":\"LinearScale\"},\"y_range\":{\"id\":\"a8877d80-0823-45a1-b99f-2a4fbd0abab1\",\"type\":\"DataRange1d\"},\"y_scale\":{\"id\":\"e1cc2cd9-3522-4b82-8da7-624e2e0a03df\",\"type\":\"LinearScale\"}},\"id\":\"f88244fc-72a9-4777-8c74-6dd6ded7c6ec\",\"subtype\":\"Figure\",\"type\":\"Plot\"},{\"attributes\":{\"dimension\":1,\"plot\":{\"id\":\"f88244fc-72a9-4777-8c74-6dd6ded7c6ec\",\"subtype\":\"Figure\",\"type\":\"Plot\"},\"ticker\":{\"id\":\"efacbce0-d246-43c6-911e-24212722f1f5\",\"type\":\"BasicTicker\"}},\"id\":\"7ea3777e-e8eb-4709-b564-eef9ddcfed1e\",\"type\":\"Grid\"},{\"attributes\":{\"active_drag\":\"auto\",\"active_inspect\":\"auto\",\"active_scroll\":\"auto\",\"active_tap\":\"auto\",\"tools\":[{\"id\":\"d622acf0-4fe6-490c-a35a-19f3a6e613e3\",\"type\":\"PanTool\"},{\"id\":\"1ccefb76-943b-4fe4-a7f3-11fda5df0fa9\",\"type\":\"WheelZoomTool\"},{\"id\":\"60bbb24b-08cc-4729-93b2-51dd9fbeb0a3\",\"type\":\"ResetTool\"},{\"id\":\"b20cfca5-e70e-421d-b15b-01c3f843bdfa\",\"type\":\"SaveTool\"}]},\"id\":\"4cee9de9-78d6-4e3d-af15-7f2abd86760d\",\"type\":\"Toolbar\"},{\"attributes\":{\"data_source\":{\"id\":\"0fee1d5a-ea3a-49ec-9c8a-6e0e7df12b00\",\"type\":\"ColumnDataSource\"},\"glyph\":{\"id\":\"4ffe3bcc-5c86-4241-bc92-be755525bbf6\",\"type\":\"Quad\"},\"hover_glyph\":null,\"muted_glyph\":null,\"nonselection_glyph\":{\"id\":\"fc8ba873-7159-4b39-b24b-44b1902307b4\",\"type\":\"Quad\"},\"selection_glyph\":null,\"view\":{\"id\":\"2e5e5298-4559-4237-8169-160d00682aa0\",\"type\":\"CDSView\"}},\"id\":\"9464ddd4-07e4-4e09-b9d7-8fea6f3c5b3c\",\"type\":\"GlyphRenderer\"},{\"attributes\":{},\"id\":\"b20cfca5-e70e-421d-b15b-01c3f843bdfa\",\"type\":\"SaveTool\"},{\"attributes\":{\"plot\":null,\"text\":\"The frequency distribution of the words in our corpus\"},\"id\":\"5889d085-0712-4202-933f-62281955f556\",\"type\":\"Title\"},{\"attributes\":{},\"id\":\"efacbce0-d246-43c6-911e-24212722f1f5\",\"type\":\"BasicTicker\"},{\"attributes\":{\"formatter\":{\"id\":\"bc058a83-caf0-4c2d-ae6d-2220ce808388\",\"type\":\"BasicTickFormatter\"},\"plot\":{\"id\":\"f88244fc-72a9-4777-8c74-6dd6ded7c6ec\",\"subtype\":\"Figure\",\"type\":\"Plot\"},\"ticker\":{\"id\":\"efacbce0-d246-43c6-911e-24212722f1f5\",\"type\":\"BasicTicker\"}},\"id\":\"6767e1d7-b92f-4f39-8df0-4a1b7fe23077\",\"type\":\"LinearAxis\"}],\"root_ids\":[\"f88244fc-72a9-4777-8c74-6dd6ded7c6ec\"]},\"title\":\"Bokeh Application\",\"version\":\"0.12.9\"}};\n",
       "    var render_items = [{\"docid\":\"7c3c2ea7-b192-41cb-a826-44e1aa474e51\",\"elementid\":\"fa7721ae-b201-4006-bd99-17e24df709fa\",\"modelid\":\"f88244fc-72a9-4777-8c74-6dd6ded7c6ec\"}];\n",
       "\n",
       "    root.Bokeh.embed.embed_items(docs_json, render_items);\n",
       "  }\n",
       "\n",
       "  if (root.Bokeh !== undefined) {\n",
       "    embed_document(root);\n",
       "  } else {\n",
       "    var attempts = 0;\n",
       "    var timer = setInterval(function(root) {\n",
       "      if (root.Bokeh !== undefined) {\n",
       "        embed_document(root);\n",
       "        clearInterval(timer);\n",
       "      }\n",
       "      attempts++;\n",
       "      if (attempts > 100) {\n",
       "        console.log(\"Bokeh: ERROR: Unable to embed document because BokehJS library is missing\")\n",
       "        clearInterval(timer);\n",
       "      }\n",
       "    }, 10, root)\n",
       "  }\n",
       "})(window);"
      ],
      "application/vnd.bokehjs_exec.v0+json": ""
     },
     "metadata": {
      "application/vnd.bokehjs_exec.v0+json": {
       "id": "f88244fc-72a9-4777-8c74-6dd6ded7c6ec"
      }
     },
     "output_type": "display_data"
    }
   ],
   "source": [
    "frequency_frequency = Counter()\n",
    "\n",
    "for word, cnt in total_counts.most_common():\n",
    "    frequency_frequency[cnt] += 1\n",
    "    \n",
    "hist, edges = np.histogram(list(map(lambda x:x[1],frequency_frequency.most_common())), density=True, bins=100, normed=True)\n",
    "\n",
    "p = figure(tools=\"pan,wheel_zoom,reset,save\",\n",
    "           toolbar_location=\"above\",\n",
    "           title=\"The frequency distribution of the words in our corpus\")\n",
    "p.quad(top=hist, bottom=0, left=edges[:-1], right=edges[1:], line_color=\"#555555\")\n",
    "show(p)"
   ]
  },
  {
   "cell_type": "code",
   "execution_count": 113,
   "metadata": {},
   "outputs": [
    {
     "data": {
      "text/plain": [
       "[('loves', 2.3643542963828121),\n",
       " ('best', 2.2720257904189176),\n",
       " ('great', 2.2582335927764534)]"
      ]
     },
     "execution_count": 113,
     "metadata": {},
     "output_type": "execute_result"
    }
   ],
   "source": [
    "pos_neg_ratios.most_common()[:3]"
   ]
  },
  {
   "cell_type": "code",
   "execution_count": 114,
   "metadata": {},
   "outputs": [
    {
     "data": {
      "text/plain": [
       "1.0432450790443935"
      ]
     },
     "execution_count": 114,
     "metadata": {},
     "output_type": "execute_result"
    }
   ],
   "source": [
    "pos_neg_ratios[\"I\"]"
   ]
  },
  {
   "cell_type": "code",
   "execution_count": 115,
   "metadata": {},
   "outputs": [
    {
     "data": {
      "text/plain": [
       "[('the', 65735),\n",
       " ('I', 55918),\n",
       " ('and', 49216),\n",
       " ('a', 47265),\n",
       " ('', 40151),\n",
       " ('to', 40086),\n",
       " ('of', 31745),\n",
       " ('is', 28688),\n",
       " ('it', 25423),\n",
       " ('for', 20709),\n",
       " ('in', 20684),\n",
       " ('this', 19581),\n",
       " ('that', 16146),\n",
       " ('my', 14659),\n",
       " ('with', 13952),\n",
       " ('have', 13538),\n",
       " ('but', 13235),\n",
       " ('was', 12443),\n",
       " ('are', 12438),\n",
       " ('not', 11419),\n",
       " ('you', 11202),\n",
       " ('/><br', 10252),\n",
       " ('on', 10198),\n",
       " ('as', 10111),\n",
       " ('like', 9582),\n",
       " ('so', 8134),\n",
       " ('they', 8106),\n",
       " ('The', 7848),\n",
       " ('be', 7271),\n",
       " ('or', 6890),\n",
       " ('at', 6684),\n",
       " ('these', 6377),\n",
       " ('just', 6127),\n",
       " ('them', 6012),\n",
       " ('very', 5852),\n",
       " ('from', 5541),\n",
       " ('good', 5528),\n",
       " ('It', 5511),\n",
       " ('one', 5495),\n",
       " ('This', 5427),\n",
       " ('has', 5162),\n",
       " ('can', 5101),\n",
       " ('taste', 4966),\n",
       " ('would', 4803),\n",
       " ('all', 4690),\n",
       " ('had', 4667),\n",
       " ('will', 4650),\n",
       " ('more', 4610),\n",
       " ('than', 4419),\n",
       " ('when', 4359),\n",
       " ('love', 4353),\n",
       " ('coffee', 4337),\n",
       " ('great', 4311),\n",
       " ('if', 4278),\n",
       " ('get', 4111),\n",
       " ('other', 4096),\n",
       " ('about', 4067),\n",
       " ('product', 3964),\n",
       " ('out', 3895),\n",
       " ('really', 3846),\n",
       " ('some', 3788),\n",
       " ('only', 3715),\n",
       " ('flavor', 3703),\n",
       " ('me', 3653),\n",
       " ('My', 3555),\n",
       " ('an', 3478),\n",
       " ('your', 3469),\n",
       " ('tea', 3438),\n",
       " (\"it's\", 3357),\n",
       " (\"don't\", 3351),\n",
       " ('food', 3349),\n",
       " ('little', 3323),\n",
       " ('up', 3297),\n",
       " ('because', 3281),\n",
       " ('were', 3185),\n",
       " ('much', 3182),\n",
       " ('it.', 3174),\n",
       " ('no', 3145),\n",
       " ('-', 3109),\n",
       " ('been', 3098),\n",
       " ('we', 3054),\n",
       " ('They', 2955),\n",
       " ('use', 2949),\n",
       " ('am', 2873),\n",
       " ('which', 2840),\n",
       " ('buy', 2821),\n",
       " (\"I've\", 2790),\n",
       " ('find', 2722),\n",
       " ('by', 2714),\n",
       " ('do', 2707),\n",
       " ('also', 2688),\n",
       " (\"I'm\", 2648),\n",
       " ('what', 2645),\n",
       " ('tried', 2642),\n",
       " ('make', 2641),\n",
       " ('even', 2595),\n",
       " ('any', 2590),\n",
       " ('too', 2545),\n",
       " ('eat', 2341),\n",
       " ('their', 2337)]"
      ]
     },
     "execution_count": 115,
     "metadata": {},
     "output_type": "execute_result"
    }
   ],
   "source": [
    "total_counts.most_common()[:100]"
   ]
  },
  {
   "cell_type": "code",
   "execution_count": null,
   "metadata": {},
   "outputs": [],
   "source": []
  }
 ],
 "metadata": {
  "kernelspec": {
   "display_name": "Python 3",
   "language": "python",
   "name": "python3"
  },
  "language_info": {
   "codemirror_mode": {
    "name": "ipython",
    "version": 3
   },
   "file_extension": ".py",
   "mimetype": "text/x-python",
   "name": "python",
   "nbconvert_exporter": "python",
   "pygments_lexer": "ipython3",
   "version": "3.5.4"
  }
 },
 "nbformat": 4,
 "nbformat_minor": 2
}
